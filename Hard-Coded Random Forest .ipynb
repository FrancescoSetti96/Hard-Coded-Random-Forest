{
 "cells": [
  {
   "cell_type": "markdown",
   "id": "24c37756",
   "metadata": {},
   "source": [
    "#  Introduction"
   ]
  },
  {
   "cell_type": "markdown",
   "id": "1c2ca18e",
   "metadata": {},
   "source": [
    "The goal of this project is building a random forest classifier from scratch, using only numpy and pandas. We will start by building a decision tree classifier, and we will later use this to build a random forest classifier. "
   ]
  },
  {
   "cell_type": "markdown",
   "id": "19b04ab8",
   "metadata": {},
   "source": [
    "# Import Toy Datasets and Test Scikit-Learn's Decision Tree Classifier "
   ]
  },
  {
   "cell_type": "code",
   "execution_count": 33,
   "id": "81ac00bc",
   "metadata": {},
   "outputs": [],
   "source": [
    "import numpy as np\n",
    "import pandas as pd\n",
    "from sklearn.tree import DecisionTreeClassifier\n",
    "from sklearn.ensemble import RandomForestClassifier\n",
    "import time"
   ]
  },
  {
   "cell_type": "markdown",
   "id": "401c8f6d",
   "metadata": {},
   "source": [
    "### Iris Dataset"
   ]
  },
  {
   "cell_type": "markdown",
   "id": "97833e2e",
   "metadata": {},
   "source": [
    "Let's import the iris dataset as a toy dataset. "
   ]
  },
  {
   "cell_type": "code",
   "execution_count": 2,
   "id": "fdcab395",
   "metadata": {},
   "outputs": [],
   "source": [
    "from sklearn import datasets\n",
    "iris = datasets.load_iris()\n",
    "iris_df = pd.DataFrame(data=iris.data, columns=iris.feature_names)\n",
    "iris_df['target'] = iris.target"
   ]
  },
  {
   "cell_type": "code",
   "execution_count": 3,
   "id": "6ee2795e",
   "metadata": {},
   "outputs": [
    {
     "data": {
      "text/plain": [
       "0    0.333333\n",
       "1    0.333333\n",
       "2    0.333333\n",
       "Name: target, dtype: float64"
      ]
     },
     "execution_count": 3,
     "metadata": {},
     "output_type": "execute_result"
    }
   ],
   "source": [
    "iris_df['target'].value_counts(normalize=True)"
   ]
  },
  {
   "cell_type": "code",
   "execution_count": 4,
   "id": "0feaf477",
   "metadata": {},
   "outputs": [
    {
     "data": {
      "text/html": [
       "<div>\n",
       "<style scoped>\n",
       "    .dataframe tbody tr th:only-of-type {\n",
       "        vertical-align: middle;\n",
       "    }\n",
       "\n",
       "    .dataframe tbody tr th {\n",
       "        vertical-align: top;\n",
       "    }\n",
       "\n",
       "    .dataframe thead th {\n",
       "        text-align: right;\n",
       "    }\n",
       "</style>\n",
       "<table border=\"1\" class=\"dataframe\">\n",
       "  <thead>\n",
       "    <tr style=\"text-align: right;\">\n",
       "      <th></th>\n",
       "      <th>sepal length (cm)</th>\n",
       "      <th>sepal width (cm)</th>\n",
       "      <th>petal length (cm)</th>\n",
       "      <th>petal width (cm)</th>\n",
       "      <th>target</th>\n",
       "    </tr>\n",
       "  </thead>\n",
       "  <tbody>\n",
       "    <tr>\n",
       "      <th>0</th>\n",
       "      <td>5.1</td>\n",
       "      <td>3.5</td>\n",
       "      <td>1.4</td>\n",
       "      <td>0.2</td>\n",
       "      <td>0</td>\n",
       "    </tr>\n",
       "    <tr>\n",
       "      <th>1</th>\n",
       "      <td>4.9</td>\n",
       "      <td>3.0</td>\n",
       "      <td>1.4</td>\n",
       "      <td>0.2</td>\n",
       "      <td>0</td>\n",
       "    </tr>\n",
       "    <tr>\n",
       "      <th>2</th>\n",
       "      <td>4.7</td>\n",
       "      <td>3.2</td>\n",
       "      <td>1.3</td>\n",
       "      <td>0.2</td>\n",
       "      <td>0</td>\n",
       "    </tr>\n",
       "    <tr>\n",
       "      <th>3</th>\n",
       "      <td>4.6</td>\n",
       "      <td>3.1</td>\n",
       "      <td>1.5</td>\n",
       "      <td>0.2</td>\n",
       "      <td>0</td>\n",
       "    </tr>\n",
       "    <tr>\n",
       "      <th>4</th>\n",
       "      <td>5.0</td>\n",
       "      <td>3.6</td>\n",
       "      <td>1.4</td>\n",
       "      <td>0.2</td>\n",
       "      <td>0</td>\n",
       "    </tr>\n",
       "  </tbody>\n",
       "</table>\n",
       "</div>"
      ],
      "text/plain": [
       "   sepal length (cm)  sepal width (cm)  petal length (cm)  petal width (cm)  \\\n",
       "0                5.1               3.5                1.4               0.2   \n",
       "1                4.9               3.0                1.4               0.2   \n",
       "2                4.7               3.2                1.3               0.2   \n",
       "3                4.6               3.1                1.5               0.2   \n",
       "4                5.0               3.6                1.4               0.2   \n",
       "\n",
       "   target  \n",
       "0       0  \n",
       "1       0  \n",
       "2       0  \n",
       "3       0  \n",
       "4       0  "
      ]
     },
     "execution_count": 4,
     "metadata": {},
     "output_type": "execute_result"
    }
   ],
   "source": [
    "iris_df.head()"
   ]
  },
  {
   "cell_type": "code",
   "execution_count": 5,
   "id": "50050cc1",
   "metadata": {},
   "outputs": [
    {
     "data": {
      "text/plain": [
       "(150, 5)"
      ]
     },
     "execution_count": 5,
     "metadata": {},
     "output_type": "execute_result"
    }
   ],
   "source": [
    "iris_df.shape"
   ]
  },
  {
   "cell_type": "markdown",
   "id": "3a621173",
   "metadata": {},
   "source": [
    "As we can see, the advantage of using the iris dataset is that the size of the dataset is relatively small, and so the training time of our algorithm shouldn't be too large. Also, this dataset has 3 (balanced) target classes, and so we check whether our model can handle a non-binary target. However, the dataset only contains continuous variables. Since we want to make sure that out algorithm can handle discrete variables, let's make one continuous variable a binary variable."
   ]
  },
  {
   "cell_type": "code",
   "execution_count": 6,
   "id": "7d81806b",
   "metadata": {},
   "outputs": [
    {
     "data": {
      "text/html": [
       "<div>\n",
       "<style scoped>\n",
       "    .dataframe tbody tr th:only-of-type {\n",
       "        vertical-align: middle;\n",
       "    }\n",
       "\n",
       "    .dataframe tbody tr th {\n",
       "        vertical-align: top;\n",
       "    }\n",
       "\n",
       "    .dataframe thead th {\n",
       "        text-align: right;\n",
       "    }\n",
       "</style>\n",
       "<table border=\"1\" class=\"dataframe\">\n",
       "  <thead>\n",
       "    <tr style=\"text-align: right;\">\n",
       "      <th></th>\n",
       "      <th>sepal length (cm)</th>\n",
       "      <th>sepal width (cm)</th>\n",
       "      <th>petal length (cm)</th>\n",
       "      <th>petal width (cm)</th>\n",
       "      <th>target</th>\n",
       "    </tr>\n",
       "  </thead>\n",
       "  <tbody>\n",
       "    <tr>\n",
       "      <th>count</th>\n",
       "      <td>150.000000</td>\n",
       "      <td>150.000000</td>\n",
       "      <td>150.000000</td>\n",
       "      <td>150.000000</td>\n",
       "      <td>150.000000</td>\n",
       "    </tr>\n",
       "    <tr>\n",
       "      <th>mean</th>\n",
       "      <td>5.843333</td>\n",
       "      <td>3.057333</td>\n",
       "      <td>3.758000</td>\n",
       "      <td>1.199333</td>\n",
       "      <td>1.000000</td>\n",
       "    </tr>\n",
       "    <tr>\n",
       "      <th>std</th>\n",
       "      <td>0.828066</td>\n",
       "      <td>0.435866</td>\n",
       "      <td>1.765298</td>\n",
       "      <td>0.762238</td>\n",
       "      <td>0.819232</td>\n",
       "    </tr>\n",
       "    <tr>\n",
       "      <th>min</th>\n",
       "      <td>4.300000</td>\n",
       "      <td>2.000000</td>\n",
       "      <td>1.000000</td>\n",
       "      <td>0.100000</td>\n",
       "      <td>0.000000</td>\n",
       "    </tr>\n",
       "    <tr>\n",
       "      <th>25%</th>\n",
       "      <td>5.100000</td>\n",
       "      <td>2.800000</td>\n",
       "      <td>1.600000</td>\n",
       "      <td>0.300000</td>\n",
       "      <td>0.000000</td>\n",
       "    </tr>\n",
       "    <tr>\n",
       "      <th>50%</th>\n",
       "      <td>5.800000</td>\n",
       "      <td>3.000000</td>\n",
       "      <td>4.350000</td>\n",
       "      <td>1.300000</td>\n",
       "      <td>1.000000</td>\n",
       "    </tr>\n",
       "    <tr>\n",
       "      <th>75%</th>\n",
       "      <td>6.400000</td>\n",
       "      <td>3.300000</td>\n",
       "      <td>5.100000</td>\n",
       "      <td>1.800000</td>\n",
       "      <td>2.000000</td>\n",
       "    </tr>\n",
       "    <tr>\n",
       "      <th>max</th>\n",
       "      <td>7.900000</td>\n",
       "      <td>4.400000</td>\n",
       "      <td>6.900000</td>\n",
       "      <td>2.500000</td>\n",
       "      <td>2.000000</td>\n",
       "    </tr>\n",
       "  </tbody>\n",
       "</table>\n",
       "</div>"
      ],
      "text/plain": [
       "       sepal length (cm)  sepal width (cm)  petal length (cm)  \\\n",
       "count         150.000000        150.000000         150.000000   \n",
       "mean            5.843333          3.057333           3.758000   \n",
       "std             0.828066          0.435866           1.765298   \n",
       "min             4.300000          2.000000           1.000000   \n",
       "25%             5.100000          2.800000           1.600000   \n",
       "50%             5.800000          3.000000           4.350000   \n",
       "75%             6.400000          3.300000           5.100000   \n",
       "max             7.900000          4.400000           6.900000   \n",
       "\n",
       "       petal width (cm)      target  \n",
       "count        150.000000  150.000000  \n",
       "mean           1.199333    1.000000  \n",
       "std            0.762238    0.819232  \n",
       "min            0.100000    0.000000  \n",
       "25%            0.300000    0.000000  \n",
       "50%            1.300000    1.000000  \n",
       "75%            1.800000    2.000000  \n",
       "max            2.500000    2.000000  "
      ]
     },
     "execution_count": 6,
     "metadata": {},
     "output_type": "execute_result"
    }
   ],
   "source": [
    "iris_df.describe()"
   ]
  },
  {
   "cell_type": "code",
   "execution_count": 7,
   "id": "b2689756",
   "metadata": {},
   "outputs": [
    {
     "name": "stdout",
     "output_type": "stream",
     "text": [
      "Index(['sepal_length_cm', 'sepal_width_cm', 'petal_length_cm',\n",
      "       'petal_width_cm', 'target'],\n",
      "      dtype='object')\n"
     ]
    }
   ],
   "source": [
    "new_column_names = {'sepal length (cm)': 'sepal_length_cm',\n",
    "                    'sepal width (cm)': 'sepal_width_cm',\n",
    "                    'petal length (cm)': 'petal_length_cm',\n",
    "                    'petal width (cm)': 'petal_width_cm'}\n",
    "\n",
    "\n",
    "iris_df = iris_df.rename(columns=new_column_names)\n",
    "\n",
    "print(iris_df.columns)\n"
   ]
  },
  {
   "cell_type": "code",
   "execution_count": 8,
   "id": "3bb53f4c",
   "metadata": {},
   "outputs": [
    {
     "data": {
      "text/html": [
       "<div>\n",
       "<style scoped>\n",
       "    .dataframe tbody tr th:only-of-type {\n",
       "        vertical-align: middle;\n",
       "    }\n",
       "\n",
       "    .dataframe tbody tr th {\n",
       "        vertical-align: top;\n",
       "    }\n",
       "\n",
       "    .dataframe thead th {\n",
       "        text-align: right;\n",
       "    }\n",
       "</style>\n",
       "<table border=\"1\" class=\"dataframe\">\n",
       "  <thead>\n",
       "    <tr style=\"text-align: right;\">\n",
       "      <th></th>\n",
       "      <th>sepal_length_cm</th>\n",
       "      <th>sepal_width_cm</th>\n",
       "      <th>petal_length_cm</th>\n",
       "      <th>petal_width_cm</th>\n",
       "      <th>target</th>\n",
       "      <th>wide_sepal</th>\n",
       "    </tr>\n",
       "  </thead>\n",
       "  <tbody>\n",
       "    <tr>\n",
       "      <th>0</th>\n",
       "      <td>5.1</td>\n",
       "      <td>3.5</td>\n",
       "      <td>1.4</td>\n",
       "      <td>0.2</td>\n",
       "      <td>0</td>\n",
       "      <td>1</td>\n",
       "    </tr>\n",
       "    <tr>\n",
       "      <th>1</th>\n",
       "      <td>4.9</td>\n",
       "      <td>3.0</td>\n",
       "      <td>1.4</td>\n",
       "      <td>0.2</td>\n",
       "      <td>0</td>\n",
       "      <td>0</td>\n",
       "    </tr>\n",
       "    <tr>\n",
       "      <th>2</th>\n",
       "      <td>4.7</td>\n",
       "      <td>3.2</td>\n",
       "      <td>1.3</td>\n",
       "      <td>0.2</td>\n",
       "      <td>0</td>\n",
       "      <td>1</td>\n",
       "    </tr>\n",
       "    <tr>\n",
       "      <th>3</th>\n",
       "      <td>4.6</td>\n",
       "      <td>3.1</td>\n",
       "      <td>1.5</td>\n",
       "      <td>0.2</td>\n",
       "      <td>0</td>\n",
       "      <td>1</td>\n",
       "    </tr>\n",
       "    <tr>\n",
       "      <th>4</th>\n",
       "      <td>5.0</td>\n",
       "      <td>3.6</td>\n",
       "      <td>1.4</td>\n",
       "      <td>0.2</td>\n",
       "      <td>0</td>\n",
       "      <td>1</td>\n",
       "    </tr>\n",
       "  </tbody>\n",
       "</table>\n",
       "</div>"
      ],
      "text/plain": [
       "   sepal_length_cm  sepal_width_cm  petal_length_cm  petal_width_cm  target  \\\n",
       "0              5.1             3.5              1.4             0.2       0   \n",
       "1              4.9             3.0              1.4             0.2       0   \n",
       "2              4.7             3.2              1.3             0.2       0   \n",
       "3              4.6             3.1              1.5             0.2       0   \n",
       "4              5.0             3.6              1.4             0.2       0   \n",
       "\n",
       "   wide_sepal  \n",
       "0           1  \n",
       "1           0  \n",
       "2           1  \n",
       "3           1  \n",
       "4           1  "
      ]
     },
     "execution_count": 8,
     "metadata": {},
     "output_type": "execute_result"
    }
   ],
   "source": [
    "iris_df['wide_sepal']=1\n",
    "iris_df['sepal_width_cm']<iris_df['sepal_width_cm'].mean()\n",
    "iris_df.loc[iris_df['sepal_width_cm']<iris_df['sepal_width_cm'].mean(),'wide_sepal']=0\n",
    "iris_df.head()"
   ]
  },
  {
   "cell_type": "code",
   "execution_count": 9,
   "id": "2c533ba9",
   "metadata": {},
   "outputs": [],
   "source": [
    "df = iris_df.drop('sepal_width_cm', axis=1)"
   ]
  },
  {
   "cell_type": "code",
   "execution_count": 10,
   "id": "7a88ffa0",
   "metadata": {},
   "outputs": [
    {
     "data": {
      "text/plain": [
       "0    0.553333\n",
       "1    0.446667\n",
       "Name: wide_sepal, dtype: float64"
      ]
     },
     "execution_count": 10,
     "metadata": {},
     "output_type": "execute_result"
    }
   ],
   "source": [
    "df['wide_sepal'].value_counts(normalize=True)"
   ]
  },
  {
   "cell_type": "code",
   "execution_count": 11,
   "id": "19ee1d54",
   "metadata": {},
   "outputs": [
    {
     "name": "stdout",
     "output_type": "stream",
     "text": [
      "<class 'pandas.core.frame.DataFrame'>\n",
      "RangeIndex: 150 entries, 0 to 149\n",
      "Data columns (total 5 columns):\n",
      " #   Column           Non-Null Count  Dtype  \n",
      "---  ------           --------------  -----  \n",
      " 0   sepal_length_cm  150 non-null    float64\n",
      " 1   petal_length_cm  150 non-null    float64\n",
      " 2   petal_width_cm   150 non-null    float64\n",
      " 3   target           150 non-null    int32  \n",
      " 4   wide_sepal       150 non-null    int64  \n",
      "dtypes: float64(3), int32(1), int64(1)\n",
      "memory usage: 5.4 KB\n"
     ]
    }
   ],
   "source": [
    "df.info()"
   ]
  },
  {
   "cell_type": "markdown",
   "id": "247e7c3c",
   "metadata": {},
   "source": [
    "Thus, we used the sepal_width_cm column to create a new binary column named wide_sepal. Specifically, this variable is 0 if the width of a flower's sepal is smaller than the average of the dataset, and it is 1 otherwise. \n",
    "\n",
    "We can now proceed to separate the dataset into training and testing data."
   ]
  },
  {
   "cell_type": "code",
   "execution_count": 12,
   "id": "10ee22fd",
   "metadata": {},
   "outputs": [],
   "source": [
    "from sklearn.model_selection import train_test_split\n",
    "X, y = df.drop('target', axis=1), df.target\n",
    "X_train_iris, X_test_iris, y_train_iris, y_test_iris = train_test_split(X, y, test_size=0.2, random_state=24)"
   ]
  },
  {
   "cell_type": "markdown",
   "id": "7e7add51",
   "metadata": {},
   "source": [
    "### Breast Cancer Dataset"
   ]
  },
  {
   "cell_type": "markdown",
   "id": "221c2375",
   "metadata": {},
   "source": [
    "The iris dataset is a very useful basic toy dataset. However, we would also like a toy dataset with a larger number of rows and columns so that it that potential performance issues in our model are easier to identify. To do this, we will use the breast cancel dataset as our second toy dataset. "
   ]
  },
  {
   "cell_type": "code",
   "execution_count": 13,
   "id": "01ef331e",
   "metadata": {},
   "outputs": [],
   "source": [
    "from sklearn.datasets import load_breast_cancer\n",
    "\n",
    "cancer = load_breast_cancer()\n",
    "X, y = cancer.data, cancer.target\n",
    "\n",
    "# Convert the data to a pandas DataFrame\n",
    "df_cancer = pd.DataFrame(X, columns=cancer.feature_names)\n",
    "df_cancer['target'] = y\n",
    "\n",
    "# Rename the columns to replace spaces with underscores\n",
    "df_cancer.columns = df_cancer.columns.str.replace(' ', '_')\n",
    "\n",
    "# Split the dataset into training and test sets\n",
    "X_train_cancer, X_test_cancer, y_train_cancer, y_test_cancer = train_test_split(df_cancer.drop('target', axis=1), df_cancer['target'], test_size=0.2, random_state=24)\n"
   ]
  },
  {
   "cell_type": "code",
   "execution_count": 14,
   "id": "99a9f47e",
   "metadata": {},
   "outputs": [
    {
     "data": {
      "text/plain": [
       "(569, 31)"
      ]
     },
     "execution_count": 14,
     "metadata": {},
     "output_type": "execute_result"
    }
   ],
   "source": [
    "df_cancer.shape"
   ]
  },
  {
   "cell_type": "code",
   "execution_count": 15,
   "id": "453163b2",
   "metadata": {
    "scrolled": true
   },
   "outputs": [
    {
     "data": {
      "text/html": [
       "<div>\n",
       "<style scoped>\n",
       "    .dataframe tbody tr th:only-of-type {\n",
       "        vertical-align: middle;\n",
       "    }\n",
       "\n",
       "    .dataframe tbody tr th {\n",
       "        vertical-align: top;\n",
       "    }\n",
       "\n",
       "    .dataframe thead th {\n",
       "        text-align: right;\n",
       "    }\n",
       "</style>\n",
       "<table border=\"1\" class=\"dataframe\">\n",
       "  <thead>\n",
       "    <tr style=\"text-align: right;\">\n",
       "      <th></th>\n",
       "      <th>mean_radius</th>\n",
       "      <th>mean_texture</th>\n",
       "      <th>mean_perimeter</th>\n",
       "      <th>mean_area</th>\n",
       "      <th>mean_smoothness</th>\n",
       "      <th>mean_compactness</th>\n",
       "      <th>mean_concavity</th>\n",
       "      <th>mean_concave_points</th>\n",
       "      <th>mean_symmetry</th>\n",
       "      <th>mean_fractal_dimension</th>\n",
       "      <th>...</th>\n",
       "      <th>worst_texture</th>\n",
       "      <th>worst_perimeter</th>\n",
       "      <th>worst_area</th>\n",
       "      <th>worst_smoothness</th>\n",
       "      <th>worst_compactness</th>\n",
       "      <th>worst_concavity</th>\n",
       "      <th>worst_concave_points</th>\n",
       "      <th>worst_symmetry</th>\n",
       "      <th>worst_fractal_dimension</th>\n",
       "      <th>target</th>\n",
       "    </tr>\n",
       "  </thead>\n",
       "  <tbody>\n",
       "    <tr>\n",
       "      <th>0</th>\n",
       "      <td>17.99</td>\n",
       "      <td>10.38</td>\n",
       "      <td>122.80</td>\n",
       "      <td>1001.0</td>\n",
       "      <td>0.11840</td>\n",
       "      <td>0.27760</td>\n",
       "      <td>0.3001</td>\n",
       "      <td>0.14710</td>\n",
       "      <td>0.2419</td>\n",
       "      <td>0.07871</td>\n",
       "      <td>...</td>\n",
       "      <td>17.33</td>\n",
       "      <td>184.60</td>\n",
       "      <td>2019.0</td>\n",
       "      <td>0.1622</td>\n",
       "      <td>0.6656</td>\n",
       "      <td>0.7119</td>\n",
       "      <td>0.2654</td>\n",
       "      <td>0.4601</td>\n",
       "      <td>0.11890</td>\n",
       "      <td>0</td>\n",
       "    </tr>\n",
       "    <tr>\n",
       "      <th>1</th>\n",
       "      <td>20.57</td>\n",
       "      <td>17.77</td>\n",
       "      <td>132.90</td>\n",
       "      <td>1326.0</td>\n",
       "      <td>0.08474</td>\n",
       "      <td>0.07864</td>\n",
       "      <td>0.0869</td>\n",
       "      <td>0.07017</td>\n",
       "      <td>0.1812</td>\n",
       "      <td>0.05667</td>\n",
       "      <td>...</td>\n",
       "      <td>23.41</td>\n",
       "      <td>158.80</td>\n",
       "      <td>1956.0</td>\n",
       "      <td>0.1238</td>\n",
       "      <td>0.1866</td>\n",
       "      <td>0.2416</td>\n",
       "      <td>0.1860</td>\n",
       "      <td>0.2750</td>\n",
       "      <td>0.08902</td>\n",
       "      <td>0</td>\n",
       "    </tr>\n",
       "    <tr>\n",
       "      <th>2</th>\n",
       "      <td>19.69</td>\n",
       "      <td>21.25</td>\n",
       "      <td>130.00</td>\n",
       "      <td>1203.0</td>\n",
       "      <td>0.10960</td>\n",
       "      <td>0.15990</td>\n",
       "      <td>0.1974</td>\n",
       "      <td>0.12790</td>\n",
       "      <td>0.2069</td>\n",
       "      <td>0.05999</td>\n",
       "      <td>...</td>\n",
       "      <td>25.53</td>\n",
       "      <td>152.50</td>\n",
       "      <td>1709.0</td>\n",
       "      <td>0.1444</td>\n",
       "      <td>0.4245</td>\n",
       "      <td>0.4504</td>\n",
       "      <td>0.2430</td>\n",
       "      <td>0.3613</td>\n",
       "      <td>0.08758</td>\n",
       "      <td>0</td>\n",
       "    </tr>\n",
       "    <tr>\n",
       "      <th>3</th>\n",
       "      <td>11.42</td>\n",
       "      <td>20.38</td>\n",
       "      <td>77.58</td>\n",
       "      <td>386.1</td>\n",
       "      <td>0.14250</td>\n",
       "      <td>0.28390</td>\n",
       "      <td>0.2414</td>\n",
       "      <td>0.10520</td>\n",
       "      <td>0.2597</td>\n",
       "      <td>0.09744</td>\n",
       "      <td>...</td>\n",
       "      <td>26.50</td>\n",
       "      <td>98.87</td>\n",
       "      <td>567.7</td>\n",
       "      <td>0.2098</td>\n",
       "      <td>0.8663</td>\n",
       "      <td>0.6869</td>\n",
       "      <td>0.2575</td>\n",
       "      <td>0.6638</td>\n",
       "      <td>0.17300</td>\n",
       "      <td>0</td>\n",
       "    </tr>\n",
       "    <tr>\n",
       "      <th>4</th>\n",
       "      <td>20.29</td>\n",
       "      <td>14.34</td>\n",
       "      <td>135.10</td>\n",
       "      <td>1297.0</td>\n",
       "      <td>0.10030</td>\n",
       "      <td>0.13280</td>\n",
       "      <td>0.1980</td>\n",
       "      <td>0.10430</td>\n",
       "      <td>0.1809</td>\n",
       "      <td>0.05883</td>\n",
       "      <td>...</td>\n",
       "      <td>16.67</td>\n",
       "      <td>152.20</td>\n",
       "      <td>1575.0</td>\n",
       "      <td>0.1374</td>\n",
       "      <td>0.2050</td>\n",
       "      <td>0.4000</td>\n",
       "      <td>0.1625</td>\n",
       "      <td>0.2364</td>\n",
       "      <td>0.07678</td>\n",
       "      <td>0</td>\n",
       "    </tr>\n",
       "  </tbody>\n",
       "</table>\n",
       "<p>5 rows × 31 columns</p>\n",
       "</div>"
      ],
      "text/plain": [
       "   mean_radius  mean_texture  mean_perimeter  mean_area  mean_smoothness  \\\n",
       "0        17.99         10.38          122.80     1001.0          0.11840   \n",
       "1        20.57         17.77          132.90     1326.0          0.08474   \n",
       "2        19.69         21.25          130.00     1203.0          0.10960   \n",
       "3        11.42         20.38           77.58      386.1          0.14250   \n",
       "4        20.29         14.34          135.10     1297.0          0.10030   \n",
       "\n",
       "   mean_compactness  mean_concavity  mean_concave_points  mean_symmetry  \\\n",
       "0           0.27760          0.3001              0.14710         0.2419   \n",
       "1           0.07864          0.0869              0.07017         0.1812   \n",
       "2           0.15990          0.1974              0.12790         0.2069   \n",
       "3           0.28390          0.2414              0.10520         0.2597   \n",
       "4           0.13280          0.1980              0.10430         0.1809   \n",
       "\n",
       "   mean_fractal_dimension  ...  worst_texture  worst_perimeter  worst_area  \\\n",
       "0                 0.07871  ...          17.33           184.60      2019.0   \n",
       "1                 0.05667  ...          23.41           158.80      1956.0   \n",
       "2                 0.05999  ...          25.53           152.50      1709.0   \n",
       "3                 0.09744  ...          26.50            98.87       567.7   \n",
       "4                 0.05883  ...          16.67           152.20      1575.0   \n",
       "\n",
       "   worst_smoothness  worst_compactness  worst_concavity  worst_concave_points  \\\n",
       "0            0.1622             0.6656           0.7119                0.2654   \n",
       "1            0.1238             0.1866           0.2416                0.1860   \n",
       "2            0.1444             0.4245           0.4504                0.2430   \n",
       "3            0.2098             0.8663           0.6869                0.2575   \n",
       "4            0.1374             0.2050           0.4000                0.1625   \n",
       "\n",
       "   worst_symmetry  worst_fractal_dimension  target  \n",
       "0          0.4601                  0.11890       0  \n",
       "1          0.2750                  0.08902       0  \n",
       "2          0.3613                  0.08758       0  \n",
       "3          0.6638                  0.17300       0  \n",
       "4          0.2364                  0.07678       0  \n",
       "\n",
       "[5 rows x 31 columns]"
      ]
     },
     "execution_count": 15,
     "metadata": {},
     "output_type": "execute_result"
    }
   ],
   "source": [
    "df_cancer.head()"
   ]
  },
  {
   "cell_type": "code",
   "execution_count": 16,
   "id": "b572e36f",
   "metadata": {},
   "outputs": [
    {
     "name": "stdout",
     "output_type": "stream",
     "text": [
      "<class 'pandas.core.frame.DataFrame'>\n",
      "RangeIndex: 569 entries, 0 to 568\n",
      "Data columns (total 31 columns):\n",
      " #   Column                   Non-Null Count  Dtype  \n",
      "---  ------                   --------------  -----  \n",
      " 0   mean_radius              569 non-null    float64\n",
      " 1   mean_texture             569 non-null    float64\n",
      " 2   mean_perimeter           569 non-null    float64\n",
      " 3   mean_area                569 non-null    float64\n",
      " 4   mean_smoothness          569 non-null    float64\n",
      " 5   mean_compactness         569 non-null    float64\n",
      " 6   mean_concavity           569 non-null    float64\n",
      " 7   mean_concave_points      569 non-null    float64\n",
      " 8   mean_symmetry            569 non-null    float64\n",
      " 9   mean_fractal_dimension   569 non-null    float64\n",
      " 10  radius_error             569 non-null    float64\n",
      " 11  texture_error            569 non-null    float64\n",
      " 12  perimeter_error          569 non-null    float64\n",
      " 13  area_error               569 non-null    float64\n",
      " 14  smoothness_error         569 non-null    float64\n",
      " 15  compactness_error        569 non-null    float64\n",
      " 16  concavity_error          569 non-null    float64\n",
      " 17  concave_points_error     569 non-null    float64\n",
      " 18  symmetry_error           569 non-null    float64\n",
      " 19  fractal_dimension_error  569 non-null    float64\n",
      " 20  worst_radius             569 non-null    float64\n",
      " 21  worst_texture            569 non-null    float64\n",
      " 22  worst_perimeter          569 non-null    float64\n",
      " 23  worst_area               569 non-null    float64\n",
      " 24  worst_smoothness         569 non-null    float64\n",
      " 25  worst_compactness        569 non-null    float64\n",
      " 26  worst_concavity          569 non-null    float64\n",
      " 27  worst_concave_points     569 non-null    float64\n",
      " 28  worst_symmetry           569 non-null    float64\n",
      " 29  worst_fractal_dimension  569 non-null    float64\n",
      " 30  target                   569 non-null    int32  \n",
      "dtypes: float64(30), int32(1)\n",
      "memory usage: 135.7 KB\n"
     ]
    }
   ],
   "source": [
    "df_cancer.info()"
   ]
  },
  {
   "cell_type": "code",
   "execution_count": 17,
   "id": "35faec39",
   "metadata": {},
   "outputs": [
    {
     "data": {
      "text/plain": [
       "1    0.627417\n",
       "0    0.372583\n",
       "Name: target, dtype: float64"
      ]
     },
     "execution_count": 17,
     "metadata": {},
     "output_type": "execute_result"
    }
   ],
   "source": [
    "df_cancer['target'].value_counts(normalize=True)"
   ]
  },
  {
   "cell_type": "markdown",
   "id": "aa6084f5",
   "metadata": {},
   "source": [
    "As we can see, this dataset has more rows and way more columns than the iris dataset, and the target has fairly balanced classes. "
   ]
  },
  {
   "cell_type": "markdown",
   "id": "36fb699e",
   "metadata": {},
   "source": [
    "### Scikit-Learn's Decision Tree Classifier "
   ]
  },
  {
   "cell_type": "markdown",
   "id": "455a5672",
   "metadata": {},
   "source": [
    "We would now like to briefly review scikit-learn's decision tree classifier and assess its training time on our toy datasets. "
   ]
  },
  {
   "cell_type": "code",
   "execution_count": 310,
   "id": "77ded14d",
   "metadata": {},
   "outputs": [
    {
     "name": "stdout",
     "output_type": "stream",
     "text": [
      "Iris training time: 0.0045146942138671875 seconds\n",
      "Iris prediction time: 0.007011890411376953 seconds\n"
     ]
    }
   ],
   "source": [
    "clf_iris = DecisionTreeClassifier()\n",
    "\n",
    "t_1 = time.time()\n",
    "clf_iris.fit(X_train_iris, y_train_iris)\n",
    "t_2 = time.time()\n",
    "y_pred_iris = clf_iris.predict(X_test_iris)\n",
    "t_3 = time.time()\n",
    "\n",
    "iris_tree_training_time = t_2 - t_1\n",
    "iris_tree_prediction_time = t_3 - t_2 \n",
    "\n",
    "print(f'Iris training time: {iris_tree_training_time} seconds')\n",
    "print(f'Iris prediction time: {iris_tree_prediction_time} seconds')"
   ]
  },
  {
   "cell_type": "code",
   "execution_count": 321,
   "id": "291491ca",
   "metadata": {},
   "outputs": [
    {
     "name": "stdout",
     "output_type": "stream",
     "text": [
      "Cancer training time: 0.013775825500488281 seconds\n",
      "Cancer prediction time: 0.004000186920166016 seconds\n"
     ]
    }
   ],
   "source": [
    "clf_cancer = DecisionTreeClassifier()\n",
    "\n",
    "t_1 = time.time()\n",
    "clf_cancer.fit(X_train_cancer, y_train_cancer)\n",
    "t_2 = time.time()\n",
    "y_pred_cancer = clf_cancer.predict(X_test_cancer)\n",
    "t_3 = time.time()\n",
    "\n",
    "cancer_tree_training_time = t_2 - t_1\n",
    "cancer_tree_prediction_time = t_3 - t_2 \n",
    "\n",
    "print(f'Cancer training time: {cancer_tree_training_time} seconds')\n",
    "print(f'Cancer prediction time: {cancer_tree_prediction_time} seconds')"
   ]
  },
  {
   "cell_type": "markdown",
   "id": "ccc5326e",
   "metadata": {},
   "source": [
    "Thus, both modes are trained in much less than one second and the training time for the iris dataset is one order of magnitude smaller than the one for the breast cancer dataset. "
   ]
  },
  {
   "cell_type": "markdown",
   "id": "09bbe90b",
   "metadata": {},
   "source": [
    "The default hyperparameters for scikit-learn's decision tree classifier are \n",
    "> **criterion='gini', splitter='best', max_depth=None, min_samples_split=2, min_samples_leaf=1, min_weight_fraction_leaf=0.0, max_features=None, random_state=None, max_leaf_nodes=None, min_impurity_decrease=0.0, class_weight=None, ccp_alpha=0.0** \n",
    "\n",
    "Of these, we are only interested in \n",
    "> **criterion='gini', splitter='best', max_depth=None, min_samples_split=2, min_samples_leaf=1, max_features=None, max_leaf_nodes=None**\n",
    "\n",
    "Specifically:\n",
    "- **criterion='gini'** indicates what criterion to use to evaluate the quality of a split \n",
    "- **splitter='best'** indicates that the best split is performed\n",
    "- **max_depth=None** indicates that there is no limit to the depth of the tree; if another value is selected, all nodes that reach that depth will become leaves\n",
    "- **min_samples_split=2** sets the minimum number of data points that an internal node must have in order to be split; in other words, if a node contains a number of data points smaller than **min_samples_split**, then the node is a leaf and won't be split further\n",
    "- **min_samples_leaf=1** sets the minimum unmber of data points that a leaf must contain; in this case, **min_samples_leaf=1** and so any leaf that is not empty is allowed\n",
    "- **max_features=None** indicates the number of features to be used for a split; in this case, since **max_features=None**, all features will be used\n",
    "- **max_leaf_nodes=None** sets the maximum number of leaves that the tree can have; in this case there is no limit, and the same will be true for our tree\n",
    "\n",
    "There are other hyperparameters that can be useful but we will not need them. For example, **ccp_alpha** is a hyperparameter used for pruning the tree. However, we will not need to prune our decision trees since we will use them to build a random forest. \n",
    "\n"
   ]
  },
  {
   "cell_type": "markdown",
   "id": "5c818199",
   "metadata": {},
   "source": [
    "# Building the Decision Tree Classifier"
   ]
  },
  {
   "cell_type": "markdown",
   "id": "86a1def1",
   "metadata": {},
   "source": [
    "As we saw in the previous section, scikit-learn's decision tree classifier has several hyperparameters, and needs training data (not containing the target) and the corresponding target in order to be fitted. Once the model has been fitted, it needs new data to make predictions. Our goal is to write a function whose variables are the training data, the training target, and the hyperparameters needed to set stopping conditions and to put some constraints on the tree. The output of this function will be a set of rules that describe how the data was split into leaves. Then, we will write a function that uses the leaves produced by the fitted model and a new dataset in order to make predictions. The predictions produced by this function will be organized in a NumPy array. "
   ]
  },
  {
   "cell_type": "markdown",
   "id": "f8073f88",
   "metadata": {},
   "source": [
    "In order to fit the tree, we will need a few functions:\n",
    "- A function to calcualte the Gini index\n",
    "- A function to find the best split value in a given column\n",
    "- A function to determine the best split in the data contained in an internal node "
   ]
  },
  {
   "cell_type": "markdown",
   "id": "b8c8b58b",
   "metadata": {},
   "source": [
    "Let's start by coding a function that calculates the Gini index for a potential node. Given a subset of the dataset, the Gini index $G$ is $$G = 1 - \\sum_{k=1}^K p_k^2$$ where $K$ is the number of classes in the target variable and $p_k$ is the proportion of data points that belong to class $k$. If a node is pure, meaning that all data points belong to the same class, the Gini index is zero. On the contrary, it gets close to $1$ if the node is impure, so that $p_k$ is small for all $k$'s. "
   ]
  },
  {
   "cell_type": "code",
   "execution_count": 20,
   "id": "30ad9ff7",
   "metadata": {},
   "outputs": [],
   "source": [
    "def getGiniIndex(y):\n",
    "    #calculate gini index for values in a node\n",
    "    probSquared = np.array([])\n",
    "    y.shape[0]\n",
    "    for i in np.unique(y):\n",
    "        prob = np.divide(np.count_nonzero(y == i),y.shape[0])\n",
    "        probSquared=np.append(probSquared,np.square(prob))\n",
    "    return 1-np.sum(probSquared)"
   ]
  },
  {
   "cell_type": "markdown",
   "id": "bb3c3c8e",
   "metadata": {},
   "source": [
    "Next, we need a function that uses the Gini index to perform the best split in a given column."
   ]
  },
  {
   "cell_type": "code",
   "execution_count": 21,
   "id": "e0347dbf",
   "metadata": {},
   "outputs": [],
   "source": [
    "def bestColumnSplit(column,y):\n",
    "    # given a column, it returns the value of the best split \n",
    "    # and its weighted Gini index\n",
    "    best_cut_value = 0\n",
    "    weigted_Gini_of_best_cut = 2\n",
    "    for i in np.unique(column):\n",
    "        y_leaf_1 = y[column<i]\n",
    "        y_leaf_2 = y[column>=i]\n",
    "        gini_1 = getGiniIndex(y_leaf_1)\n",
    "        gini_2 = getGiniIndex(y_leaf_2)\n",
    "        weighted_Gini = gini_1*(np.divide(y_leaf_1.shape[0],y.shape[0]))+gini_2*(np.divide(y_leaf_2.shape[0],y.shape[0]))\n",
    "        if weighted_Gini < weigted_Gini_of_best_cut:\n",
    "            weigted_Gini_of_best_cut = weighted_Gini\n",
    "            best_cut_value = i\n",
    "    return (best_cut_value,weigted_Gini_of_best_cut,column.name)       "
   ]
  },
  {
   "cell_type": "markdown",
   "id": "99dd31e6",
   "metadata": {},
   "source": [
    "This function starts with a weighted Gini index value of 2 (which is higher than the maximum possible value of 1) and a best cut value of 0. Then it iterates through all values in the column and it calculates the weighted Gini index for the two potential nodes the split would give. If it finds a weighted Gini index lower of the current lowest weighted Gini, it updates this value and stores the split value that produced the new best weighted Gini index. The function returns the value at which the data should be split, the weighted Gini index of this split, and the column name. \n",
    "\n",
    "One potential issue of this function is that it needs to iterate through all values contained in the column. If the column is a binary variable with only two values, this function executes really fast. However, if the column is a continuous variable, the function might be very slow because all entries might be unique values, and so the function might have to check hundreds or thousands of potential splits."
   ]
  },
  {
   "cell_type": "markdown",
   "id": "f15cc59d",
   "metadata": {},
   "source": [
    "Next, we use the **bestColumnSplit** function to obtain the best split in a subset.  "
   ]
  },
  {
   "cell_type": "code",
   "execution_count": 22,
   "id": "309b639f",
   "metadata": {},
   "outputs": [],
   "source": [
    "def bestSubsetSplit(x,y):\n",
    "    results = np.array((np.nan,2,np.nan))\n",
    "    for column in x.columns:\n",
    "        a=np.array(bestColumnSplit(x[str(column)],y))\n",
    "        results = np.vstack((results,a))\n",
    "    row_best_cut = results[:,1].argmin()\n",
    "    # return best cut value and column name\n",
    "    return (float(results[row_best_cut,0]),results[row_best_cut,2])"
   ]
  },
  {
   "cell_type": "markdown",
   "id": "9b9e760a",
   "metadata": {},
   "source": [
    "As we can see in the above cell, this function uses the **bestColumnSplit** on each column and it stores its outputs in a NumPy array with 3 columns. At the end, it returns the row corresponding to the cut that produced the purest nodes (i.e. the ones that have the lowest weighted Gini index). Like **bestColumnSplit**, **bestSubsetSplit** returns the best cut value, the weighted Gini index that the split produces, and the name of the variable. "
   ]
  },
  {
   "cell_type": "markdown",
   "id": "d1e1b6bd",
   "metadata": {},
   "source": [
    "Now we can write the function to train the decision tree. However, it is convenient to first define a few more functions."
   ]
  },
  {
   "cell_type": "code",
   "execution_count": 23,
   "id": "0bb0962b",
   "metadata": {},
   "outputs": [],
   "source": [
    "def subset_not_in_leaves(subset, leaves):\n",
    "    for leaf in leaves:\n",
    "        if subset[0].equals(leaf[0]) and subset[1]==leaf[1] and subset[2]==leaf[2]:\n",
    "            return False\n",
    "    return True"
   ]
  },
  {
   "cell_type": "markdown",
   "id": "217c368e",
   "metadata": {},
   "source": [
    "**subset_not_in_leaves** checks whether a subset of the data is contained in the list of leaves. It is convenient to define a function to do this because we need to check a few conditions. The function returns `True` if the subset is *not* in the list of leaves and `False` otherwise."
   ]
  },
  {
   "cell_type": "code",
   "execution_count": 24,
   "id": "d3fb1ef6",
   "metadata": {},
   "outputs": [],
   "source": [
    "def remove_subset_from_nodes(subset,nodes):\n",
    "    # This only removes the subset once. Ideally, nodes should not contain the same subset more than once.\n",
    "    for i, node in enumerate(nodes):\n",
    "        if subset[0].equals(node[0]) and subset[1]==node[1] and subset[2]==node[2]:\n",
    "            nodes.pop(i)\n",
    "    return nodes\n",
    "            "
   ]
  },
  {
   "cell_type": "markdown",
   "id": "b17e423a",
   "metadata": {},
   "source": [
    "Similarly to **subset_not_in_leaves**, **remove_subset_from_nodes** checks whether a subset of the data is in the list of internal nodes. If so, the node is removed from the list. "
   ]
  },
  {
   "cell_type": "code",
   "execution_count": 25,
   "id": "278ba867",
   "metadata": {},
   "outputs": [],
   "source": [
    "def restructure_leaves(leaves):\n",
    "    new_leaves = []\n",
    "    for leaf in leaves: \n",
    "        new_leaf = (leaf[3], leaf[1], leaf[2])\n",
    "        new_leaves.append(new_leaf)\n",
    "    return new_leaves"
   ]
  },
  {
   "cell_type": "markdown",
   "id": "041470e8",
   "metadata": {},
   "source": [
    "**restructure_leaves** changes the order in which the information regarding a leaf is stored in a tuple. "
   ]
  },
  {
   "cell_type": "markdown",
   "id": "3dbde01a",
   "metadata": {},
   "source": [
    "Finally, we can define the function we will need to fit a classification decision tree."
   ]
  },
  {
   "cell_type": "code",
   "execution_count": 306,
   "id": "167be2bf",
   "metadata": {},
   "outputs": [],
   "source": [
    "def model_fit(x,y,max_depth,min_samples_split,min_samples_leaf):\n",
    "    df = x.copy()\n",
    "    # subset = (mask, prediction, depth, query)\n",
    "    potential_nodes = [(pd.Series([np.nan,np.nan]),y.value_counts().idxmax(), 0, 'True')]\n",
    "    leaves = []\n",
    "    while len(potential_nodes) != 0:\n",
    "        for subset in potential_nodes:\n",
    "            if subset[2]==0:\n",
    "                dropped_columns=[]\n",
    "                while True:\n",
    "                    cut_value, cut_variable = bestSubsetSplit(df.drop(dropped_columns,axis=1),y)\n",
    "                    mask_1 = df[cut_variable] < cut_value\n",
    "                    mask_2 = df[cut_variable] >= cut_value\n",
    "                    if (df[mask_1].shape[0]<min_samples_leaf) | (df[mask_2].shape[0]<min_samples_leaf):\n",
    "                        dropped_columns.append(cut_variable)\n",
    "                        if dropped_columns == df.columns.tolist():\n",
    "                                return \"No branches found. Please, try to increase the value of min_samples_leaf.\"\n",
    "                    else:\n",
    "                        break\n",
    "                prediction_1 = y[mask_1].value_counts().idxmax()\n",
    "                prediction_2 = y[mask_2].value_counts().idxmax()\n",
    "                depth = 1\n",
    "                query_1 = '(' + cut_variable + '<' + f'{cut_value}' + ')'\n",
    "                query_2 = '(' + cut_variable + '>=' + f'{cut_value}' + ')'\n",
    "                node_1 = (mask_1, prediction_1, depth, query_1)\n",
    "                node_2 = (mask_2, prediction_2, depth, query_2)\n",
    "            else:\n",
    "                dropped_columns=[]\n",
    "                while True:\n",
    "                    cut_value, cut_variable = bestSubsetSplit(df[subset[0]].drop(dropped_columns,axis=1),y[subset[0]]) \n",
    "                    mask_1 = (subset[0]) & (df[cut_variable] < cut_value)\n",
    "                    mask_2 = (subset[0]) & (df[cut_variable] >= cut_value)\n",
    "                    query_1 = subset[3] + '&' + '(' + cut_variable + '<' + f'{cut_value}' + ')'\n",
    "                    query_2 = subset[3] + '&' + '(' + cut_variable + '>=' + f'{cut_value}' + ')'\n",
    "                    if (df[mask_1].shape[0]<min_samples_leaf) | (df[mask_2].shape[0]<min_samples_leaf):\n",
    "                        dropped_columns.append(cut_variable)\n",
    "                        if dropped_columns == df.columns.tolist():\n",
    "                            leaves.append(subset)\n",
    "                            #potential_nodes.remove(subset)\n",
    "                            break\n",
    "                    else:\n",
    "                        break\n",
    "                prediction_1 = y[mask_1].value_counts().idxmax()\n",
    "                prediction_2 = y[mask_2].value_counts().idxmax()\n",
    "                depth = subset[2]+1\n",
    "                node_1 = (mask_1, prediction_1, depth, query_1)\n",
    "                node_2 = (mask_2, prediction_2, depth, query_2)\n",
    "            # check if the new nodes are leaves \n",
    "            if subset_not_in_leaves(subset,leaves):\n",
    "                if node_1[2] == max_depth or df[mask_1].shape[0] <= min_samples_split or y[mask_1].unique().shape[0]==1:\n",
    "                    leaves.append(node_1)\n",
    "                else:\n",
    "                    potential_nodes.append(node_1)\n",
    "                if node_2[2] == max_depth or df[mask_2].shape[0] <= min_samples_split or y[mask_2].unique().shape[0]==1:\n",
    "                    leaves.append(node_2)\n",
    "                else:\n",
    "                    potential_nodes.append(node_2)\n",
    "            potential_nodes = remove_subset_from_nodes(subset,potential_nodes)\n",
    "    return restructure_leaves(leaves) "
   ]
  },
  {
   "cell_type": "markdown",
   "id": "76f46b0f",
   "metadata": {},
   "source": [
    "The variables of this function are:\n",
    "- **x**: the training data, organized in a pandas dataframe \n",
    "- **y**: the training target stored in a pandas series \n",
    "- **max_depth**: hyperparameter constraining the maximum depth of the decision tree\n",
    "- **min_samples_split**: hyperparameter setting a limit to the minimum number of data points that can be contained in an internal node\n",
    "- **min_samples_leaf**: hyperparameter indicating the minimum number of data points that can be contained in a leaf\n",
    "It is worth pointing out that our function cannot handle nominal categorical variables. Such variables should be hot-encoded into boolean variables. \n",
    "\n",
    "By the way the function is built, we have:\n",
    "- **criterion='gini'**\n",
    "- **splitter='best'**\n",
    "- **max_features=None**\n",
    "- **max_leaf_nodes=None**\n",
    "\n",
    "The function splits the data into subsets, which have the following basic structure: $$ \\text{subset} = (\\text{mask}, \\text{prediction}, \\text{depth}, \\text{query}) $$\n",
    "where\n",
    "- **mask** is a condition such as `df['column_1'] < 5`. This gives a NumPy array containing `True` and `False`. Although masks are convenient to split the data, they only work on datasets that have the same number of rows. Thus, we cannot use masks obtained from the training data to split the test data. This is why we also need **query**.\n",
    "- **prediction** is the category that has the highest count in the subset of the data. If the subset is a leaf, this is the prediction that the model would make for data that belong to the leaf.\n",
    "- **depth** is the depth of the subset. We need to store this value in case we want to contstrain the maximum depth of the decision tree.\n",
    "- **query** is similar to **mask** but it is a string rather than a Numpy array. For example, `df['column_1'] < 5` is a **mask** while `\"df['column_1'] < 5\"` is a **query**. The advantage of storing masks as queries is that thanks to queries it is easy to see how the data has been splitted. In additions, queries can be used to make predictions on any dataset that has the same columns as the training dataset. \n",
    "\n",
    "The basic way this function works is by dividing the data into subsets, which are part of two possible lists: `potential_nodes` or `leaves`. At the beginning, `potential_nodes` contains the whole training data and `leaves` is empty. At each iteration, the function splits the data using the Gini index as a criterion to make the best *allowed* split among all internal nodes contained in `potential_nodes`. Notice that the best split might not be allowed depending on the value of **min_samples_leaf**. Once a subset is split into two new nodes, the function checks whether either node is actually a leaf. Specifically, a node is a leaf if at least one of these conditions is true:\n",
    "- the node's depth is equl to the value of **max_depth**\n",
    "- the number of data samples in the node is smaller than or equal to **min_samples_split**, meaning that the node cannot be further splitted \n",
    "- the node is pure, and so we don't need to split it again since the predictions would be the same\n",
    "If a node is a leaf, then it is added to `leaves`, otherwise it is added to `potential_nodes`. The function stops when there are no more elements in `potential_nodes`, meaning that all the data has been split into subsets that are in `leaves`. The function returnes the subsets in `leaves` structured in the following way: $$ \\text{leaf} = (\\text{query}, \\text{prediction}, \\text{depth})$$\n"
   ]
  },
  {
   "cell_type": "markdown",
   "id": "498d4d45",
   "metadata": {},
   "source": [
    "Now that we have a function to fit the decision tree, we can write a function to make predictions. "
   ]
  },
  {
   "cell_type": "code",
   "execution_count": 105,
   "id": "85685342",
   "metadata": {},
   "outputs": [],
   "source": [
    "def model_predict(leaves,x):\n",
    "    df=x.copy()\n",
    "    df['y']=np.nan\n",
    "    for leaf in leaves:\n",
    "        mask = df.eval(leaf[0])\n",
    "        df.loc[mask, 'y'] = leaf[1]\n",
    "    return df['y'].values   "
   ]
  },
  {
   "cell_type": "markdown",
   "id": "e6a0591f",
   "metadata": {},
   "source": [
    "**model_predict** has two variables:\n",
    "- **leaves**: this is the output of the function **model_fit**.\n",
    "- **x**: this is the data that we want to make predictions for. It should be organized in a pandas dataset and it should have the same columns as the data that was used to fit the model.\n",
    "\n",
    "Given the fitted model and a pandas dataframe, this function creates a copy of the dataframe and adds to it a column named `'y'` in which all entries are `np.nan`. Then, for every leaf, the function creates a mask using its **query** and then it uses the mask to enter in the `'y'` column the value of the leaf's **prediction**. At the end, the function returns the values of the `'y'` column, i.e. the predictions for the given data, organized in a NumPy array. "
   ]
  },
  {
   "cell_type": "markdown",
   "id": "100c5819-b2bc-48e9-8d92-7ca0d4a03be3",
   "metadata": {
    "tags": []
   },
   "source": [
    "# Testing the Decision Tree Classifier"
   ]
  },
  {
   "cell_type": "markdown",
   "id": "84f7177d-dcb7-4e32-bf1c-3985cad09581",
   "metadata": {
    "tags": []
   },
   "source": [
    "We should now test our functions in order to compare them to scikit-learn's corresponding functions. First, let's train decision trees using `model_fit` on the iris dataset and the breast cancer dataset. Since we want to compare these model's to scikit-learn's models that we previously fit, we will set all parameters to scikit-learn's default values. After fitting the decision tree, we will make predictions on the testing data using `model_predict`."
   ]
  },
  {
   "cell_type": "code",
   "execution_count": 312,
   "id": "650575a2-f2b1-4960-a84c-2ed80c09e2eb",
   "metadata": {
    "tags": []
   },
   "outputs": [
    {
     "name": "stdout",
     "output_type": "stream",
     "text": [
      "Iris training time: 0.43599772453308105 seconds\n",
      "Iris prediction time: 0.059534311294555664 seconds\n"
     ]
    }
   ],
   "source": [
    "t_1 = time.time()\n",
    "iris_hard_coded_tree = model_fit(X_train_iris, y_train_iris, np.inf, 2, 1)\n",
    "t_2 = time.time()\n",
    "iris_hard_coded_tree_predictions = model_predict(iris_hard_coded_tree, X_test_iris)\n",
    "t_3 = time.time()\n",
    "\n",
    "iris_hard_coded_tree_training_time = t_2 - t_1\n",
    "iris_hard_coded_tree_prediction_time = t_3 - t_2 \n",
    "\n",
    "print(f'Iris training time: {iris_hard_coded_tree_training_time} seconds')\n",
    "print(f'Iris prediction time: {iris_hard_coded_tree_prediction_time} seconds')"
   ]
  },
  {
   "cell_type": "code",
   "execution_count": 252,
   "id": "6bfa02bb-8be3-4904-9fbf-386c73729554",
   "metadata": {
    "tags": []
   },
   "outputs": [
    {
     "data": {
      "text/html": [
       "<div>\n",
       "<style scoped>\n",
       "    .dataframe tbody tr th:only-of-type {\n",
       "        vertical-align: middle;\n",
       "    }\n",
       "\n",
       "    .dataframe tbody tr th {\n",
       "        vertical-align: top;\n",
       "    }\n",
       "\n",
       "    .dataframe thead th {\n",
       "        text-align: right;\n",
       "    }\n",
       "</style>\n",
       "<table border=\"1\" class=\"dataframe\">\n",
       "  <thead>\n",
       "    <tr style=\"text-align: right;\">\n",
       "      <th></th>\n",
       "      <th>Scikit-Learn Tree</th>\n",
       "      <th>Hard-Coded Tree</th>\n",
       "      <th>Ratios</th>\n",
       "    </tr>\n",
       "  </thead>\n",
       "  <tbody>\n",
       "    <tr>\n",
       "      <th>Iris Train</th>\n",
       "      <td>0.004160</td>\n",
       "      <td>0.423242</td>\n",
       "      <td>101.736776</td>\n",
       "    </tr>\n",
       "    <tr>\n",
       "      <th>Iris Predict</th>\n",
       "      <td>0.001997</td>\n",
       "      <td>0.039793</td>\n",
       "      <td>19.931096</td>\n",
       "    </tr>\n",
       "  </tbody>\n",
       "</table>\n",
       "</div>"
      ],
      "text/plain": [
       "              Scikit-Learn Tree  Hard-Coded Tree      Ratios\n",
       "Iris Train             0.004160         0.423242  101.736776\n",
       "Iris Predict           0.001997         0.039793   19.931096"
      ]
     },
     "execution_count": 252,
     "metadata": {},
     "output_type": "execute_result"
    }
   ],
   "source": [
    "iris_tree_results = pd.DataFrame({'Scikit-Learn Tree':[iris_tree_training_time,iris_tree_prediction_time],\n",
    "                                  'Hard-Coded Tree':[iris_hard_coded_tree_training_time,iris_hard_coded_tree_prediction_time]},\n",
    "                                 index=['Iris Train','Iris Predict'])\n",
    "iris_tree_results['Ratios'] = iris_tree_results['Hard-Coded Tree']/iris_tree_results['Scikit-Learn Tree']\n",
    "iris_tree_results"
   ]
  },
  {
   "cell_type": "markdown",
   "id": "327a59d7-f8a5-4e90-b016-7e47329d2a5e",
   "metadata": {
    "tags": []
   },
   "source": [
    "The above table shows that although our hard-coded decision tree is fit in less than 1 second, its training time is roughly 100 times larger than the one for scikit-learns tree. Also, the prediction time of our hard-coded model is roughly 20 times larger than scikit-learn's tree. \n",
    "\n",
    "Let's now do the same test for the breast cancer dataset. "
   ]
  },
  {
   "cell_type": "code",
   "execution_count": 313,
   "id": "1233c03e-53fb-4bef-b99d-53db2529de04",
   "metadata": {
    "tags": []
   },
   "outputs": [
    {
     "name": "stdout",
     "output_type": "stream",
     "text": [
      "Cancer training time: 57.664549112319946 seconds\n",
      "Cancer prediction time: 0.11649060249328613 seconds\n"
     ]
    }
   ],
   "source": [
    "t_1 = time.time()\n",
    "cancer_hard_coded_tree = model_fit(X_train_cancer, y_train_cancer, np.inf, 2, 1)\n",
    "t_2 = time.time()\n",
    "cancer_hard_coded_tree_predictions = model_predict(cancer_hard_coded_tree, X_test_cancer)\n",
    "t_3 = time.time()\n",
    "\n",
    "cancer_hard_coded_tree_training_time = t_2 - t_1\n",
    "cancer_hard_coded_tree_prediction_time = t_3 - t_2 \n",
    "\n",
    "print(f'Cancer training time: {cancer_hard_coded_tree_training_time} seconds')\n",
    "print(f'Cancer prediction time: {cancer_hard_coded_tree_prediction_time} seconds')"
   ]
  },
  {
   "cell_type": "code",
   "execution_count": 254,
   "id": "5144251f-5e38-4a03-ba95-9c1024507e13",
   "metadata": {},
   "outputs": [
    {
     "data": {
      "text/html": [
       "<div>\n",
       "<style scoped>\n",
       "    .dataframe tbody tr th:only-of-type {\n",
       "        vertical-align: middle;\n",
       "    }\n",
       "\n",
       "    .dataframe tbody tr th {\n",
       "        vertical-align: top;\n",
       "    }\n",
       "\n",
       "    .dataframe thead th {\n",
       "        text-align: right;\n",
       "    }\n",
       "</style>\n",
       "<table border=\"1\" class=\"dataframe\">\n",
       "  <thead>\n",
       "    <tr style=\"text-align: right;\">\n",
       "      <th></th>\n",
       "      <th>Scikit-Learn Tree</th>\n",
       "      <th>Hard-Coded Tree</th>\n",
       "      <th>Ratios</th>\n",
       "    </tr>\n",
       "  </thead>\n",
       "  <tbody>\n",
       "    <tr>\n",
       "      <th>Cancer Train</th>\n",
       "      <td>0.008660</td>\n",
       "      <td>58.161451</td>\n",
       "      <td>6715.857422</td>\n",
       "    </tr>\n",
       "    <tr>\n",
       "      <th>Cancer Predict</th>\n",
       "      <td>0.003001</td>\n",
       "      <td>0.122673</td>\n",
       "      <td>40.880820</td>\n",
       "    </tr>\n",
       "  </tbody>\n",
       "</table>\n",
       "</div>"
      ],
      "text/plain": [
       "                Scikit-Learn Tree  Hard-Coded Tree       Ratios\n",
       "Cancer Train             0.008660        58.161451  6715.857422\n",
       "Cancer Predict           0.003001         0.122673    40.880820"
      ]
     },
     "execution_count": 254,
     "metadata": {},
     "output_type": "execute_result"
    }
   ],
   "source": [
    "cancer_tree_results = pd.DataFrame({'Scikit-Learn Tree':[cancer_tree_training_time,cancer_tree_prediction_time],\n",
    "                                  'Hard-Coded Tree':[cancer_hard_coded_tree_training_time,cancer_hard_coded_tree_prediction_time]},\n",
    "                                 index=['Cancer Train','Cancer Predict'])\n",
    "cancer_tree_results['Ratios'] = cancer_tree_results['Hard-Coded Tree']/cancer_tree_results['Scikit-Learn Tree']\n",
    "cancer_tree_results"
   ]
  },
  {
   "cell_type": "markdown",
   "id": "9acb328f-9704-4c44-96ca-f60c8cd4fd26",
   "metadata": {},
   "source": [
    "The ratio of the prediction times is still of order $10^1$, but the ratio of the fitting times is now of order $10^3$. This means that our hard-coded decision tree is significantly slower on this dataset. We believe that this is because our algorithm iterates through all unique values of each column to determine the best cut at each step. Since the breat cancer dataset has many more columns, more rows, and is made of of floats only (except for the target), our algorithm has to iterate to a large number of unique values to fit the decision tree. When we will train a random forest on this dataset, we expect that the fitting time will be very large. However, it should not simply be (**cancer_hard_coded_tree_training_time**)*(**number of trees**) because as we will see, the trees in a random forest are trained on a bootstrapped dataset (which are likely to have several identical datapoints), and they only use a small subset of all columns at each step. Because of this, the unique values the algorithm will have to iterate through should be significantly smaller. "
   ]
  },
  {
   "cell_type": "markdown",
   "id": "5e9a73ce-acfa-4e57-8579-cee9a5fe7b41",
   "metadata": {},
   "source": [
    "Let's not compare the predictions produced by scikit-learn's `DecisionTreeClassifier()` and our hard-coded functions. "
   ]
  },
  {
   "cell_type": "code",
   "execution_count": 324,
   "id": "d8a74d92-a202-41b9-b6ff-3d88f91cb592",
   "metadata": {},
   "outputs": [
    {
     "name": "stdout",
     "output_type": "stream",
     "text": [
      "Iris Same Predictions Percentage: 100.0%\n",
      "Iris Different Predictions Percentage: 0.0%\n"
     ]
    }
   ],
   "source": [
    "predictions_comparison = iris_hard_coded_tree_predictions == y_pred_iris\n",
    "\n",
    "same_count = np.count_nonzero(predictions_comparison)\n",
    "different_count = np.size(predictions_comparison) - same_count\n",
    "\n",
    "print(f'Iris Same Predictions Percentage: {round((same_count/predictions_comparison.size) * 100, 2)}%')\n",
    "print(f'Iris Different Predictions Percentage: {round((different_count/predictions_comparison.size) * 100, 2)}%')"
   ]
  },
  {
   "cell_type": "code",
   "execution_count": 323,
   "id": "1e54f41d-9f2d-4fcf-9e00-ec499522acb5",
   "metadata": {},
   "outputs": [
    {
     "name": "stdout",
     "output_type": "stream",
     "text": [
      "Iris Scikit-Learn Tree Accuracy: 96.67%\n",
      "Iris Hard-Coded Tree Accuracy: 96.67%\n"
     ]
    }
   ],
   "source": [
    "from sklearn.metrics import accuracy_score\n",
    "\n",
    "iris_tree_accuracy = accuracy_score(y_test_iris, y_pred_iris)\n",
    "iris_hard_coded_tree_accuracy = accuracy_score(y_test_iris, iris_hard_coded_tree_predictions)\n",
    "\n",
    "print(f'Iris Scikit-Learn Tree Accuracy: {round((iris_tree_accuracy) * 100, 2)}%')\n",
    "print(f'Iris Hard-Coded Tree Accuracy: {round((iris_hard_coded_tree_accuracy) * 100, 2)}%')"
   ]
  },
  {
   "cell_type": "code",
   "execution_count": 322,
   "id": "c250f15b-9632-47d6-9d26-6ecf94223e53",
   "metadata": {},
   "outputs": [
    {
     "name": "stdout",
     "output_type": "stream",
     "text": [
      "[[10  0  0]\n",
      " [ 0  3  1]\n",
      " [ 0  0 16]]\n"
     ]
    }
   ],
   "source": [
    "from sklearn.metrics import confusion_matrix\n",
    "\n",
    "print(confusion_matrix(y_test_iris, iris_hard_coded_tree_predictions))"
   ]
  },
  {
   "cell_type": "markdown",
   "id": "4ece2ccf-b5ce-4c7a-86fe-ad53545714ea",
   "metadata": {},
   "source": [
    "Thus, both scikit-learn's `DecisionTreeClassifier()` and our hard-coded model made the same predictions and misclassified the same datapoint.  \n",
    "\n",
    "Let's now do the same comparisons for the breast cancer dataset. "
   ]
  },
  {
   "cell_type": "code",
   "execution_count": 328,
   "id": "d79bee59-0847-4c33-b2ef-f05701cb5185",
   "metadata": {},
   "outputs": [
    {
     "name": "stdout",
     "output_type": "stream",
     "text": [
      "Cancer Same Predictions Percentage: 99.12%\n",
      "Cancer Different Predictions Percentage: 0.88%\n"
     ]
    }
   ],
   "source": [
    "predictions_comparison = cancer_hard_coded_tree_predictions == y_pred_cancer\n",
    "\n",
    "same_count = np.count_nonzero(predictions_comparison)\n",
    "different_count = np.size(predictions_comparison) - same_count\n",
    "\n",
    "print(f'Cancer Same Predictions Percentage: {round((same_count/predictions_comparison.size) * 100, 2)}%')\n",
    "print(f'Cancer Different Predictions Percentage: {round((different_count/predictions_comparison.size) * 100, 2)}%')"
   ]
  },
  {
   "cell_type": "code",
   "execution_count": 329,
   "id": "5aae0acb-ebe0-47d5-848f-3853040dd1a5",
   "metadata": {},
   "outputs": [
    {
     "name": "stdout",
     "output_type": "stream",
     "text": [
      "Cancer Scikit-Learn Tree Accuracy: 92.98%\n",
      "Cancer Hard-Coded Tree Accuracy: 92.11%\n"
     ]
    }
   ],
   "source": [
    "cancer_tree_accuracy = accuracy_score(y_test_cancer, y_pred_cancer)\n",
    "cancer_hard_coded_tree_accuracy = accuracy_score(y_test_cancer, cancer_hard_coded_tree_predictions)\n",
    "\n",
    "print(f'Cancer Scikit-Learn Tree Accuracy: {round((cancer_tree_accuracy) * 100, 2)}%')\n",
    "print(f'Cancer Hard-Coded Tree Accuracy: {round((cancer_hard_coded_tree_accuracy) * 100, 2)}%')"
   ]
  },
  {
   "cell_type": "code",
   "execution_count": 343,
   "id": "fc28ca64-c038-47a2-94df-d9f9d8dd2c26",
   "metadata": {},
   "outputs": [
    {
     "name": "stdout",
     "output_type": "stream",
     "text": [
      "[[36  5]\n",
      " [ 4 69]]\n"
     ]
    }
   ],
   "source": [
    "print(confusion_matrix(y_test_cancer, cancer_hard_coded_tree_predictions))"
   ]
  },
  {
   "cell_type": "markdown",
   "id": "c6fc11ce-917c-4592-a394-1183ceb5af24",
   "metadata": {},
   "source": [
    "There are more misclassified datapoints now but the accuracy of our hard-coded trees is still comparable to scikit-learn's `DecisionTreeClassifier()`. "
   ]
  },
  {
   "cell_type": "markdown",
   "id": "e75788eb-e9a3-4af1-86ae-fcb14b71edd6",
   "metadata": {},
   "source": [
    "# Building the Random Forest Classifier"
   ]
  },
  {
   "cell_type": "markdown",
   "id": "ee3fe9c0-5b13-4583-8ebd-341b7e498d91",
   "metadata": {},
   "source": [
    "Now that we have a function to fit a decision tree classifier and a function to make predictions using the fitted model, we can build the decision tree classifier. First, let's briefly test scikit-learn's random forest classifier to check its training time. "
   ]
  },
  {
   "cell_type": "code",
   "execution_count": 330,
   "id": "e46bd0e4-f289-48eb-b4f3-da322d73ffc5",
   "metadata": {},
   "outputs": [
    {
     "name": "stdout",
     "output_type": "stream",
     "text": [
      "Iris training time: 0.14788818359375 seconds\n",
      "Iris prediction time: 0.016991138458251953 seconds\n"
     ]
    }
   ],
   "source": [
    "clf_rf_iris = RandomForestClassifier( max_features=3)\n",
    "\n",
    "t_1 = time.time()\n",
    "clf_rf_iris.fit(X_train_iris, y_train_iris)\n",
    "t_2 = time.time()\n",
    "y_pred_iris_rf = clf_rf_iris.predict(X_test_iris)\n",
    "t_3 = time.time()\n",
    "\n",
    "iris_random_forest_training_time = t_2 - t_1\n",
    "iris_random_forest_prediction_time = t_3 - t_2 \n",
    "\n",
    "print(f'Iris training time: {iris_random_forest_training_time} seconds')\n",
    "print(f'Iris prediction time: {iris_random_forest_prediction_time} seconds')"
   ]
  },
  {
   "cell_type": "code",
   "execution_count": 331,
   "id": "d6e56106-5f0a-401e-86fd-eb19484fe8c7",
   "metadata": {
    "tags": []
   },
   "outputs": [
    {
     "name": "stdout",
     "output_type": "stream",
     "text": [
      "Cancer training time: 0.2697596549987793 seconds\n",
      "Cancer prediction time: 0.01598501205444336 seconds\n"
     ]
    }
   ],
   "source": [
    "clf_rf_cancer = RandomForestClassifier()\n",
    "\n",
    "t_1 = time.time()\n",
    "clf_rf_cancer.fit(X_train_cancer, y_train_cancer)\n",
    "t_2 = time.time()\n",
    "y_pred_cancer_rf = clf_rf_cancer.predict(X_test_cancer)\n",
    "t_3 = time.time()\n",
    "\n",
    "cancer_random_forest_training_time = t_2 - t_1\n",
    "cancer_random_forest_prediction_time = t_3 - t_2 \n",
    "\n",
    "print(f'Cancer training time: {cancer_rf_training_time} seconds')\n",
    "print(f'Cancer prediction time: {cancer_rf_prediction_time} seconds')"
   ]
  },
  {
   "cell_type": "markdown",
   "id": "e1b68e89-2ec2-419b-b4a1-518e2211a6d4",
   "metadata": {},
   "source": [
    "Comparing these with the training and prediction times for the decision trees, we see that random forests take significantly more time to be trained and to make predictions. Specifically, the training times for random forests are 2 orders of magnitude larger than for decision trees, while the prediction time for random forests is an order of magnitude larger than for decision trees. The table below summarizes these observations. "
   ]
  },
  {
   "cell_type": "code",
   "execution_count": 279,
   "id": "fb93a231-e593-49b2-b8dd-081cdd9f2472",
   "metadata": {},
   "outputs": [
    {
     "data": {
      "text/html": [
       "<div>\n",
       "<style scoped>\n",
       "    .dataframe tbody tr th:only-of-type {\n",
       "        vertical-align: middle;\n",
       "    }\n",
       "\n",
       "    .dataframe tbody tr th {\n",
       "        vertical-align: top;\n",
       "    }\n",
       "\n",
       "    .dataframe thead th {\n",
       "        text-align: right;\n",
       "    }\n",
       "</style>\n",
       "<table border=\"1\" class=\"dataframe\">\n",
       "  <thead>\n",
       "    <tr style=\"text-align: right;\">\n",
       "      <th></th>\n",
       "      <th>Iris_Training_Time</th>\n",
       "      <th>Cancer_Training_Time</th>\n",
       "      <th>Iris_Prediction_Time</th>\n",
       "      <th>Cancer_Prediction_Time</th>\n",
       "    </tr>\n",
       "  </thead>\n",
       "  <tbody>\n",
       "    <tr>\n",
       "      <th>Tree</th>\n",
       "      <td>0.004160</td>\n",
       "      <td>0.008660</td>\n",
       "      <td>0.001997</td>\n",
       "      <td>0.003001</td>\n",
       "    </tr>\n",
       "    <tr>\n",
       "      <th>RF</th>\n",
       "      <td>0.201620</td>\n",
       "      <td>0.269760</td>\n",
       "      <td>0.011549</td>\n",
       "      <td>0.015985</td>\n",
       "    </tr>\n",
       "    <tr>\n",
       "      <th>RF/Tree</th>\n",
       "      <td>48.464325</td>\n",
       "      <td>31.148937</td>\n",
       "      <td>5.784571</td>\n",
       "      <td>5.327030</td>\n",
       "    </tr>\n",
       "  </tbody>\n",
       "</table>\n",
       "</div>"
      ],
      "text/plain": [
       "         Iris_Training_Time  Cancer_Training_Time  Iris_Prediction_Time  \\\n",
       "Tree               0.004160              0.008660              0.001997   \n",
       "RF                 0.201620              0.269760              0.011549   \n",
       "RF/Tree           48.464325             31.148937              5.784571   \n",
       "\n",
       "         Cancer_Prediction_Time  \n",
       "Tree                   0.003001  \n",
       "RF                     0.015985  \n",
       "RF/Tree                5.327030  "
      ]
     },
     "execution_count": 279,
     "metadata": {},
     "output_type": "execute_result"
    }
   ],
   "source": [
    "times = pd.DataFrame({'Iris_Training_Time':[iris_tree_training_time,iris_rf_training_time,iris_rf_training_time/iris_tree_training_time],\n",
    "                      'Cancer_Training_Time':[cancer_tree_training_time,cancer_rf_training_time,cancer_rf_training_time/cancer_tree_training_time],\n",
    "                      'Iris_Prediction_Time':[iris_tree_prediction_time,iris_rf_prediction_time,iris_rf_prediction_time/iris_tree_prediction_time],\n",
    "                      'Cancer_Prediction_Time':[cancer_tree_prediction_time,cancer_rf_prediction_time,cancer_rf_prediction_time/cancer_tree_prediction_time]},\n",
    "                     index = ['Tree','RF','RF/Tree'])\n",
    "times"
   ]
  },
  {
   "cell_type": "markdown",
   "id": "eba1891c-0cbe-4961-bc66-36b35676052a",
   "metadata": {},
   "source": [
    "Like before, to fit the model we need to provide a pandas data frame not containing the target, and a pandas series containing the target, while to make predictions we need to provide a new pandas data frame. The random forest classifier is based on decision trees, some some of the hyperparameters are the same as for the decision tree classifier. Speficically these are:\n",
    "- **criterion='gini'**\n",
    "- **max_depth=None**\n",
    "- **min_samples_split=2**\n",
    "- **min_samples_leaf=1**\n",
    "- **max_leaf_nodes=None**\n",
    "\n",
    "However, we now have **max_features='sqrt'**. This means that rather than using all features to find the best cut, only a randomly selected subset of all features is used *at each step*. For example, say that we have 9 features. Then, if **max_features='sqrt'**, only $\\sqrt9 = 3$ randomly selected features will be used to find the first best split, and 3 randomly selected features will be used to find the next best split, and so on until the tree is fit. \n",
    "\n",
    "Next, we have a few new hyperparameters of interest:\n",
    "- **n_estimators=100** indicates that the random forest will be made of 100 decision trees\n",
    "- **bootstrap=True** indicates that each decision tree is fit on a bootstrapped dataset \n",
    "- **n_jobs=None** indicates that no trees are fit in parallel\n",
    "- **random_state=None** indicates that no seed has been set; we will later set a seed so that the results of a random forest are reproducible"
   ]
  },
  {
   "cell_type": "markdown",
   "id": "1afc8a44-38e4-4531-a818-5fbdf13d5de2",
   "metadata": {},
   "source": [
    "Now that we have a better idea of what hyperparameters we need, we can start building our random forest classifier. First, we will need a modified version of the decision tree classifier we previously built. "
   ]
  },
  {
   "cell_type": "code",
   "execution_count": 51,
   "id": "7a3302f9",
   "metadata": {},
   "outputs": [],
   "source": [
    "def random_decision_tree_fit(x,y,max_depth,min_samples_split,min_samples_leaf,max_features):\n",
    "    df = x.copy()\n",
    "    # subset = (mask, prediction, depth, query)\n",
    "    potential_nodes = [(pd.Series([np.nan,np.nan]),y.value_counts().idxmax(), 0, 'True')]\n",
    "    leaves = []\n",
    "    columns = df.columns\n",
    "    while len(potential_nodes) != 0:\n",
    "        for subset in potential_nodes:\n",
    "            if subset[2]==0:\n",
    "                dropped_columns = np.random.choice(columns, df.shape[1]-max_features, replace='False')\n",
    "                while True:\n",
    "                    cut_value, cut_variable = bestSubsetSplit(df.drop(dropped_columns,axis=1),y)\n",
    "                    mask_1 = df[cut_variable] < cut_value\n",
    "                    mask_2 = df[cut_variable] >= cut_value\n",
    "                    if (df[mask_1].shape[0]<min_samples_leaf) | (df[mask_2].shape[0]<min_samples_leaf):\n",
    "                        dropped_columns = np.append(dropped_columns, cut_variable)\n",
    "                        if len(dropped_columns) == len(df.columns):\n",
    "                                return \"No branches found. Please, try to increase the value of min_samples_leaf.\"\n",
    "                    else:\n",
    "                        break\n",
    "                prediction_1 = y[mask_1].value_counts().idxmax()\n",
    "                prediction_2 = y[mask_2].value_counts().idxmax()\n",
    "                depth = 1\n",
    "                query_1 = '(' + cut_variable + '<' + f'{cut_value}' + ')'\n",
    "                query_2 = '(' + cut_variable + '>=' + f'{cut_value}' + ')'\n",
    "                node_1 = (mask_1, prediction_1, depth, query_1)\n",
    "                node_2 = (mask_2, prediction_2, depth, query_2)\n",
    "            else:\n",
    "                dropped_columns = np.random.choice(columns, df.shape[1]-max_features, replace='False')\n",
    "                while True:\n",
    "                    cut_value, cut_variable = bestSubsetSplit(df[subset[0]].drop(dropped_columns,axis=1),y[subset[0]]) \n",
    "                    mask_1 = (subset[0]) & (df[cut_variable] < cut_value)\n",
    "                    mask_2 = (subset[0]) & (df[cut_variable] >= cut_value)\n",
    "                    query_1 = subset[3] + '&' + '(' + cut_variable + '<' + f'{cut_value}' + ')'\n",
    "                    query_2 = subset[3] + '&' + '(' + cut_variable + '>=' + f'{cut_value}' + ')'\n",
    "                    if (df[mask_1].shape[0]<min_samples_leaf) | (df[mask_2].shape[0]<min_samples_leaf):\n",
    "                        dropped_columns = np.append(dropped_columns, cut_variable)\n",
    "                        if len(dropped_columns) == len(df.columns):\n",
    "                            leaves.append(subset)\n",
    "                            #potential_nodes.remove(subset)\n",
    "                            break\n",
    "                    else:\n",
    "                        break\n",
    "                prediction_1 = y[mask_1].value_counts().idxmax()\n",
    "                prediction_2 = y[mask_2].value_counts().idxmax()\n",
    "                depth = subset[2]+1\n",
    "                node_1 = (mask_1, prediction_1, depth, query_1)\n",
    "                node_2 = (mask_2, prediction_2, depth, query_2)\n",
    "            # check if the new nodes are leaves \n",
    "            if subset_not_in_leaves(subset,leaves):\n",
    "                if node_1[2] == max_depth or df[mask_1].shape[0] <= min_samples_split or y[mask_1].unique().shape[0]==1:\n",
    "                    leaves.append(node_1)\n",
    "                else:\n",
    "                    potential_nodes.append(node_1)\n",
    "                if node_2[2] == max_depth or df[mask_2].shape[0] <= min_samples_split or y[mask_2].unique().shape[0]==1:\n",
    "                    leaves.append(node_2)\n",
    "                else:\n",
    "                    potential_nodes.append(node_2)\n",
    "            potential_nodes = remove_subset_from_nodes(subset,potential_nodes)\n",
    "    return restructure_leaves(leaves) "
   ]
  },
  {
   "cell_type": "markdown",
   "id": "5ae88484-dd14-4746-bb6f-bdad14d83acd",
   "metadata": {},
   "source": [
    "This function is very similar to the one we coded for standard decision trees, but there are some crucial differences. First, the variable **x** can be any dataset, but we will use bootstrapped datasets with this function. Second, once a subset of **x** is selected, a subset of the columns of size `df.shape[1]-max_features` is *randomly* selected and dropped. In other words, the best split on the subset is performed using a randomly selected subset of the columns of size `max_features`. Next, we can finally code a function to train the random forest. "
   ]
  },
  {
   "cell_type": "code",
   "execution_count": 68,
   "id": "71f8b545-5837-4d1f-b904-abed0355a645",
   "metadata": {},
   "outputs": [],
   "source": [
    "def train_random_forest(x,y,max_depth,min_samples_split,min_samples_leaf,n_estimators,max_features,random_seed):\n",
    "    np.random.seed(seed=random_seed)\n",
    "    results = []\n",
    "    for estimators in range(n_estimators):\n",
    "        bootstrap_x = x.sample(n=len(x), replace=True)\n",
    "        bootstrap_y = y[bootstrap_x.index]\n",
    "        # oob_x = x.drop(bootstrap_x.index)\n",
    "        tree = random_decision_tree_fit(bootstrap_x,bootstrap_y,max_depth,min_samples_split,min_samples_leaf,max_features)\n",
    "        results.append(tree)\n",
    "    return results"
   ]
  },
  {
   "cell_type": "markdown",
   "id": "a1154ae3-c55e-4765-9f62-12611a0c4522",
   "metadata": {},
   "source": [
    "In this function, **x** and **y** are the training data and the corresponding training target, respectively. All the other variables are the same scikit-learn's `RandomForestClassifier()` that we discussed above. Here's how the function works:\n",
    "1. A random seed is set. The value of the random seed is a hyperparameter. \n",
    "2. A for loop is started. The number of iterations is equal to the hyperparameter value of **n_estimators**, which is the number of trees in the random forest.\n",
    "3. A bootstrapped sample is obtained using the original dataset **x**, and the corresponding **y** datapoints are selected. We also obtained the out-of-bag (oob) datapoints but we decided not to implement the oob score for now. We might implement it in the future. \n",
    "4. Using the boostrapped samples, a decision tree is fit using the modified decision tree function we discussed before.\n",
    "5. The leaves of the trained decision tree is stored in a list called `results`, which will be returned once the desired number of decision trees has been trained. "
   ]
  },
  {
   "cell_type": "markdown",
   "id": "1d466104-3681-430f-960b-12af91c38815",
   "metadata": {},
   "source": [
    "Next, we need a function to make predictions using the trained random forest. "
   ]
  },
  {
   "cell_type": "code",
   "execution_count": 218,
   "id": "7b38e6b2-4430-4caa-b823-f207c12ca5c0",
   "metadata": {},
   "outputs": [],
   "source": [
    "def random_forest_predict(forest, x):\n",
    "    df=x.copy()\n",
    "    #df['y']=np.nan\n",
    "    predictions_df = pd.DataFrame()\n",
    "    tree_number = 0\n",
    "    for tree in forest:\n",
    "        tree_number += 1 \n",
    "        predictions_df[f'tree_{tree_number}'] = model_predict(tree, df)\n",
    "    final_predictions = predictions_df.mode(axis=1)[0]\n",
    "    return final_predictions.values"
   ]
  },
  {
   "cell_type": "markdown",
   "id": "5a2ed6ab-32a1-4eae-a083-9dcbf9fa10dc",
   "metadata": {},
   "source": [
    "The variables of this function are:\n",
    "- **forest**: the trained random forest produced by `train_random_forest`\n",
    "- **x**: the new data stored in a pandas dataframe that we want to make predictions on \n",
    "\n",
    "This is how the function works:\n",
    "1. Create an empty dataframe named `predictions_df` and set the variable `tree_number = 0`\n",
    "2. Start a `for` loop to iterate through all the trees in the trained random forest\n",
    "3. At each step, add 1 to `tree_number` and add a column to `predictions_df` with the predictions produced by the current tree in the `for` loop. To obtain the predictions, the function uses `model_predict`, which is the same function we coded to make predictions for a single decision tree. \n",
    "4. The function obtains the median, i.e., the most frequent value, for each row in `predictions_df`. This means that for each data point, the function selects the most popular prediction among all trees in the random forest. Notice that the function selected only the first element of `mode()` because we are not interested in the cases in which there are multiple modes.\n",
    "5. The function returns the predictions in a NumPy array.\n",
    "\n",
    "Notice that `predictions_df` is a pandas dataframe, not a NumPy array. We decided to use a pandas dataframe because it is easy to obtain the mode of its rows. If we wanted to obtain the mode of the rows of a NumPy array, we would either have to use ` scipy.stats.mode()`, which would require us to import an additional library, or we would have to write a function to obtain the mode. Since neither of these options is significantly advantageous, we opted for the easier option of using pandas. \n",
    "\n",
    "In addition, it could be interesting to return `predictions_df` in order to get a better idea of how the trees make different predictions. If one wishes to obtain this, the last line can be modified to `return final_predictions.values, predictions_df` so that `random_forest_predict(forest, x)[1]` returns `predictions_df`. In the simple case of a forest made of 3 trees and a dataset with only 3 data points, `predictions_df` would look like\n",
    "\n",
    "|  | **tree_1** | **tree_2** | **tree_3** |\n",
    "|--------------|--------------|--------------|--------------|\n",
    "| **0** | prediction of tree_1 for data point 1 | prediction of tree_2 for data point 1 | prediction of tree_3 for data point 1 |\n",
    "| **1** | prediction of tree_1 for data point 2 | prediction of tree_2 for data point 2 | prediction of tree_3 for data point 2 |\n",
    "| **2** | prediction of tree_1 for data point 3 | prediction of tree_2 for data point 3 | prediction of tree_3 for data point 3 |\n"
   ]
  },
  {
   "cell_type": "markdown",
   "id": "489df1b4-df25-49e0-ba4b-e6dc7b448ae5",
   "metadata": {},
   "source": [
    "# Testing the Random Forest Classifier"
   ]
  },
  {
   "cell_type": "markdown",
   "id": "351c6a4d-d2b3-49bd-81c4-8faf92e85960",
   "metadata": {},
   "source": [
    "Let's not test our functions. In addition to testing the random forest, we should also test how long the algorithm takes to train one single tree. We are interested in this because we would like to confirm that training a decision tree on a bootstrapped dataset and only using a subset of the columns is indeed faster than training a standard decision tree. "
   ]
  },
  {
   "cell_type": "code",
   "execution_count": 227,
   "id": "1ba8549f-cf21-4d28-b635-a311474bdf76",
   "metadata": {},
   "outputs": [
    {
     "name": "stdout",
     "output_type": "stream",
     "text": [
      "Iris training time: 0.14216136932373047 seconds\n",
      "Iris prediction time: 0.017999649047851562 seconds\n"
     ]
    }
   ],
   "source": [
    "t_1 = time.time()\n",
    "iris_hard_coded_single_tree_forest = train_random_forest(X_train_iris, y_train_iris, np.inf, 2, 1, 1, 2, 42)\n",
    "t_2 = time.time()\n",
    "iris_hard_coded_single_tree_forest_predictions = random_forest_predict(iris_hard_coded_single_tree_forest, X_test_iris)\n",
    "t_3 = time.time()\n",
    "\n",
    "iris_hard_coded_single_tree_forest_training_time = t_2 - t_1\n",
    "iris_hard_coded_single_tree_forest_prediction_time = t_3 - t_2 \n",
    "\n",
    "print(f'Iris training time: {iris_hard_coded_single_tree_forest_training_time} seconds')\n",
    "print(f'Iris prediction time: {iris_hard_coded_single_tree_forest_prediction_time} seconds')"
   ]
  },
  {
   "cell_type": "code",
   "execution_count": 332,
   "id": "3737b937-a3df-4f51-bd66-160ad15345b0",
   "metadata": {},
   "outputs": [
    {
     "data": {
      "text/html": [
       "<div>\n",
       "<style scoped>\n",
       "    .dataframe tbody tr th:only-of-type {\n",
       "        vertical-align: middle;\n",
       "    }\n",
       "\n",
       "    .dataframe tbody tr th {\n",
       "        vertical-align: top;\n",
       "    }\n",
       "\n",
       "    .dataframe thead th {\n",
       "        text-align: right;\n",
       "    }\n",
       "</style>\n",
       "<table border=\"1\" class=\"dataframe\">\n",
       "  <thead>\n",
       "    <tr style=\"text-align: right;\">\n",
       "      <th></th>\n",
       "      <th>Hard-Coded Tree</th>\n",
       "      <th>Hard-Coded Signle Tree Forest</th>\n",
       "      <th>Ratios</th>\n",
       "    </tr>\n",
       "  </thead>\n",
       "  <tbody>\n",
       "    <tr>\n",
       "      <th>Iris Train</th>\n",
       "      <td>0.435998</td>\n",
       "      <td>0.142161</td>\n",
       "      <td>3.066921</td>\n",
       "    </tr>\n",
       "    <tr>\n",
       "      <th>Iris Predict</th>\n",
       "      <td>0.059534</td>\n",
       "      <td>0.018000</td>\n",
       "      <td>3.307526</td>\n",
       "    </tr>\n",
       "  </tbody>\n",
       "</table>\n",
       "</div>"
      ],
      "text/plain": [
       "              Hard-Coded Tree  Hard-Coded Signle Tree Forest    Ratios\n",
       "Iris Train           0.435998                       0.142161  3.066921\n",
       "Iris Predict         0.059534                       0.018000  3.307526"
      ]
     },
     "execution_count": 332,
     "metadata": {},
     "output_type": "execute_result"
    }
   ],
   "source": [
    "iris_single_tree_forest_results = pd.DataFrame({'Hard-Coded Tree':[iris_hard_coded_tree_training_time,iris_hard_coded_tree_prediction_time],\n",
    "                                                'Hard-Coded Signle Tree Forest':[iris_hard_coded_single_tree_forest_training_time,iris_hard_coded_single_tree_forest_prediction_time]},\n",
    "                                 index=['Iris Train','Iris Predict'])\n",
    "iris_single_tree_forest_results['Ratios'] = iris_single_tree_forest_results['Hard-Coded Tree']/iris_single_tree_forest_results['Hard-Coded Signle Tree Forest']\n",
    "iris_single_tree_forest_results"
   ]
  },
  {
   "cell_type": "markdown",
   "id": "7c03b7a5-5424-4e12-8129-08cc8d23fda8",
   "metadata": {},
   "source": [
    "As expected, training a single tree random forest is faster than training a full decision tree. In this case, the difference seems not to be too dramatic. Let's check whether this is also the case for the breast cancer dataset. "
   ]
  },
  {
   "cell_type": "code",
   "execution_count": 261,
   "id": "ac82a2a9-ca99-4a95-93eb-5295796c7e7b",
   "metadata": {},
   "outputs": [
    {
     "name": "stdout",
     "output_type": "stream",
     "text": [
      "Cancer training time: 9.463565826416016 seconds\n",
      "Cancer prediction time: 0.06695413589477539 seconds\n"
     ]
    }
   ],
   "source": [
    "t_1 = time.time()\n",
    "cancer_hard_coded_single_tree_forest = train_random_forest(X_train_cancer, y_train_cancer, np.inf, 2, 1, 1, 6, 42)\n",
    "t_2 = time.time()\n",
    "cancer_hard_coded_single_tree_forest_predictions = random_forest_predict(cancer_hard_coded_single_tree_forest, X_test_cancer)\n",
    "t_3 = time.time()\n",
    "\n",
    "cancer_hard_coded_single_tree_forest_training_time = t_2 - t_1\n",
    "cancer_hard_coded_single_tree_forest_prediction_time = t_3 - t_2 \n",
    "\n",
    "print(f'Cancer training time: {cancer_hard_coded_single_tree_forest_training_time} seconds')\n",
    "print(f'Cancer prediction time: {cancer_hard_coded_single_tree_forest_prediction_time} seconds')"
   ]
  },
  {
   "cell_type": "code",
   "execution_count": 333,
   "id": "60d149f2-a859-49eb-a035-9d7d0da33ae2",
   "metadata": {},
   "outputs": [
    {
     "data": {
      "text/html": [
       "<div>\n",
       "<style scoped>\n",
       "    .dataframe tbody tr th:only-of-type {\n",
       "        vertical-align: middle;\n",
       "    }\n",
       "\n",
       "    .dataframe tbody tr th {\n",
       "        vertical-align: top;\n",
       "    }\n",
       "\n",
       "    .dataframe thead th {\n",
       "        text-align: right;\n",
       "    }\n",
       "</style>\n",
       "<table border=\"1\" class=\"dataframe\">\n",
       "  <thead>\n",
       "    <tr style=\"text-align: right;\">\n",
       "      <th></th>\n",
       "      <th>Hard-Coded Tree</th>\n",
       "      <th>Hard-Coded Single Tree Forest</th>\n",
       "      <th>Ratios</th>\n",
       "    </tr>\n",
       "  </thead>\n",
       "  <tbody>\n",
       "    <tr>\n",
       "      <th>Cancer Train</th>\n",
       "      <td>57.664549</td>\n",
       "      <td>9.463566</td>\n",
       "      <td>6.093321</td>\n",
       "    </tr>\n",
       "    <tr>\n",
       "      <th>Cancer Predict</th>\n",
       "      <td>0.116491</td>\n",
       "      <td>0.066954</td>\n",
       "      <td>1.739857</td>\n",
       "    </tr>\n",
       "  </tbody>\n",
       "</table>\n",
       "</div>"
      ],
      "text/plain": [
       "                Hard-Coded Tree  Hard-Coded Single Tree Forest    Ratios\n",
       "Cancer Train          57.664549                       9.463566  6.093321\n",
       "Cancer Predict         0.116491                       0.066954  1.739857"
      ]
     },
     "execution_count": 333,
     "metadata": {},
     "output_type": "execute_result"
    }
   ],
   "source": [
    "cancer_single_tree_forest_results = pd.DataFrame({'Hard-Coded Tree':[cancer_hard_coded_tree_training_time,cancer_hard_coded_tree_prediction_time],\n",
    "                                                'Hard-Coded Single Tree Forest':[cancer_hard_coded_single_tree_forest_training_time,cancer_hard_coded_single_tree_forest_prediction_time]},\n",
    "                                 index=['Cancer Train','Cancer Predict'])\n",
    "cancer_single_tree_forest_results['Ratios'] = cancer_single_tree_forest_results['Hard-Coded Tree']/cancer_single_tree_forest_results['Hard-Coded Single Tree Forest']\n",
    "cancer_single_tree_forest_results"
   ]
  },
  {
   "cell_type": "markdown",
   "id": "eda04af8-7ab5-4d22-be98-cf1e631eccb7",
   "metadata": {},
   "source": [
    "Here the ratios are higher than before. Specifically, it is reassuring that one tree in the random forest is trained in roughly 10 seconds rather than 1 minute. "
   ]
  },
  {
   "cell_type": "markdown",
   "id": "2db6502d-130f-4dcc-b044-9888b6b53cf7",
   "metadata": {},
   "source": [
    "Let's now compare our hard-coded random forest to scikit-learn's `RandomForestClassifier()`. Like before, we will use the default values of the hyperparameters, meaning that we will train 100 trees and that we will use the square root of the number of columns. Notice that we actually had to set the number of features used to 3 (rather than $\\sqrt(4)=2$) because we were getting an error. This should be further investigated in the future. "
   ]
  },
  {
   "cell_type": "code",
   "execution_count": 265,
   "id": "8f2c9059-6bf5-4706-adc4-dc51837ed64a",
   "metadata": {},
   "outputs": [
    {
     "name": "stdout",
     "output_type": "stream",
     "text": [
      "Iris training time: 21.370934009552002 seconds\n",
      "Iris prediction time: 2.8845767974853516 seconds\n"
     ]
    }
   ],
   "source": [
    "t_1 = time.time()\n",
    "iris_hard_coded_random_forest = train_random_forest(X_train_iris, y_train_iris, np.inf, 2, 1, 100, 3, 42)\n",
    "t_2 = time.time()\n",
    "iris_hard_coded_random_forest_predictions = random_forest_predict(iris_hard_coded_random_forest, X_test_iris)\n",
    "t_3 = time.time()\n",
    "\n",
    "iris_hard_coded_random_forest_training_time = t_2 - t_1\n",
    "iris_hard_coded_random_forest_prediction_time = t_3 - t_2 \n",
    "\n",
    "print(f'Iris training time: {iris_hard_coded_random_forest_training_time} seconds')\n",
    "print(f'Iris prediction time: {iris_hard_coded_random_forest_prediction_time} seconds')"
   ]
  },
  {
   "cell_type": "code",
   "execution_count": 334,
   "id": "2e7af224-adab-495e-bcd9-161fe620a9eb",
   "metadata": {},
   "outputs": [
    {
     "data": {
      "text/html": [
       "<div>\n",
       "<style scoped>\n",
       "    .dataframe tbody tr th:only-of-type {\n",
       "        vertical-align: middle;\n",
       "    }\n",
       "\n",
       "    .dataframe tbody tr th {\n",
       "        vertical-align: top;\n",
       "    }\n",
       "\n",
       "    .dataframe thead th {\n",
       "        text-align: right;\n",
       "    }\n",
       "</style>\n",
       "<table border=\"1\" class=\"dataframe\">\n",
       "  <thead>\n",
       "    <tr style=\"text-align: right;\">\n",
       "      <th></th>\n",
       "      <th>Scikit-Learn Forest</th>\n",
       "      <th>Hard-Coded Forest</th>\n",
       "      <th>Ratios</th>\n",
       "    </tr>\n",
       "  </thead>\n",
       "  <tbody>\n",
       "    <tr>\n",
       "      <th>Iris Train</th>\n",
       "      <td>0.147888</td>\n",
       "      <td>21.370934</td>\n",
       "      <td>144.507380</td>\n",
       "    </tr>\n",
       "    <tr>\n",
       "      <th>Iris Predict</th>\n",
       "      <td>0.016991</td>\n",
       "      <td>2.884577</td>\n",
       "      <td>169.769483</td>\n",
       "    </tr>\n",
       "  </tbody>\n",
       "</table>\n",
       "</div>"
      ],
      "text/plain": [
       "              Scikit-Learn Forest  Hard-Coded Forest      Ratios\n",
       "Iris Train               0.147888          21.370934  144.507380\n",
       "Iris Predict             0.016991           2.884577  169.769483"
      ]
     },
     "execution_count": 334,
     "metadata": {},
     "output_type": "execute_result"
    }
   ],
   "source": [
    "iris_forest_results = pd.DataFrame({'Scikit-Learn Forest':[iris_random_forest_training_time,iris_random_forest_prediction_time],\n",
    "                                  'Hard-Coded Forest':[iris_hard_coded_random_forest_training_time,iris_hard_coded_random_forest_prediction_time]},\n",
    "                                 index=['Iris Train','Iris Predict'])\n",
    "iris_forest_results['Ratios'] = iris_forest_results['Hard-Coded Forest']/iris_forest_results['Scikit-Learn Forest']\n",
    "iris_forest_results"
   ]
  },
  {
   "cell_type": "markdown",
   "id": "83cf4079-b6bb-4415-ad84-b0a3dcfacaa6",
   "metadata": {},
   "source": [
    "From the above table we see that both ratios are of order $10^2$, meaning that the hard-coded functions are significantly slower than scikit-learn's `RandomForestClassifier()`.\n",
    "\n",
    "Next, let's check how our functions perform on the breast cancer dataset. "
   ]
  },
  {
   "cell_type": "code",
   "execution_count": 276,
   "id": "3c241225-8665-4f21-8267-9c3bd8d1dde2",
   "metadata": {},
   "outputs": [
    {
     "name": "stdout",
     "output_type": "stream",
     "text": [
      "Cancer training time: 1412.0974168777466 seconds\n",
      "Cancer prediction time: 7.38637375831604 seconds\n"
     ]
    }
   ],
   "source": [
    "t_1 = time.time()\n",
    "cancer_hard_coded_random_forest = train_random_forest(X_train_cancer, y_train_cancer, np.inf, 2, 1, 100, 6, 42)\n",
    "t_2 = time.time()\n",
    "cancer_hard_coded_random_forest_predictions = random_forest_predict(cancer_hard_coded_random_forest, X_test_cancer)\n",
    "t_3 = time.time()\n",
    "\n",
    "cancer_hard_coded_random_forest_training_time = t_2 - t_1\n",
    "cancer_hard_coded_random_forest_prediction_time = t_3 - t_2 \n",
    "\n",
    "print(f'Cancer training time: {cancer_hard_coded_random_forest_training_time} seconds')\n",
    "print(f'Cancer prediction time: {cancer_hard_coded_random_forest_prediction_time} seconds')"
   ]
  },
  {
   "cell_type": "code",
   "execution_count": 335,
   "id": "34e90acf-6577-4af5-ba60-860d45429d9e",
   "metadata": {},
   "outputs": [
    {
     "data": {
      "text/html": [
       "<div>\n",
       "<style scoped>\n",
       "    .dataframe tbody tr th:only-of-type {\n",
       "        vertical-align: middle;\n",
       "    }\n",
       "\n",
       "    .dataframe tbody tr th {\n",
       "        vertical-align: top;\n",
       "    }\n",
       "\n",
       "    .dataframe thead th {\n",
       "        text-align: right;\n",
       "    }\n",
       "</style>\n",
       "<table border=\"1\" class=\"dataframe\">\n",
       "  <thead>\n",
       "    <tr style=\"text-align: right;\">\n",
       "      <th></th>\n",
       "      <th>Scikit-Learn Forest</th>\n",
       "      <th>Hard-Coded Forest</th>\n",
       "      <th>Ratios</th>\n",
       "    </tr>\n",
       "  </thead>\n",
       "  <tbody>\n",
       "    <tr>\n",
       "      <th>Cancer Train</th>\n",
       "      <td>0.191165</td>\n",
       "      <td>1412.097417</td>\n",
       "      <td>7386.809284</td>\n",
       "    </tr>\n",
       "    <tr>\n",
       "      <th>Cancer Predict</th>\n",
       "      <td>0.011077</td>\n",
       "      <td>7.386374</td>\n",
       "      <td>666.839514</td>\n",
       "    </tr>\n",
       "  </tbody>\n",
       "</table>\n",
       "</div>"
      ],
      "text/plain": [
       "                Scikit-Learn Forest  Hard-Coded Forest       Ratios\n",
       "Cancer Train               0.191165        1412.097417  7386.809284\n",
       "Cancer Predict             0.011077           7.386374   666.839514"
      ]
     },
     "execution_count": 335,
     "metadata": {},
     "output_type": "execute_result"
    }
   ],
   "source": [
    "cancer_forest_results = pd.DataFrame({'Scikit-Learn Forest':[cancer_random_forest_training_time,cancer_random_forest_prediction_time],\n",
    "                                  'Hard-Coded Forest':[cancer_hard_coded_random_forest_training_time,cancer_hard_coded_random_forest_prediction_time]},\n",
    "                                 index=['Cancer Train','Cancer Predict'])\n",
    "cancer_forest_results['Ratios'] = cancer_forest_results['Hard-Coded Forest']/cancer_forest_results['Scikit-Learn Forest']\n",
    "cancer_forest_results"
   ]
  },
  {
   "cell_type": "markdown",
   "id": "5d1ac88e-0853-4e92-8c6c-e6ae61916c6e",
   "metadata": {},
   "source": [
    "Unfortunately, the training time on this dataset is not great. Specifically, while scikit-learn's `RandomForestClassifier()` can train 100 trees is less than a second, our hard-coded model achieves the same in around 20 minutes, giving us a ratio of order $10^3$. Like with the iris dataset, the prediction ratio is still of order $10^2$. "
   ]
  },
  {
   "cell_type": "markdown",
   "id": "a8485beb-801b-4e6d-b459-ee55b9a3c311",
   "metadata": {},
   "source": [
    "Let's now compare the predictions. "
   ]
  },
  {
   "cell_type": "code",
   "execution_count": 338,
   "id": "5f238942-5559-404f-a189-d7048db86361",
   "metadata": {},
   "outputs": [
    {
     "name": "stdout",
     "output_type": "stream",
     "text": [
      "Iris Same Predictions Percentage: 100.0%\n",
      "Iris Different Predictions Percentage: 0.0%\n"
     ]
    }
   ],
   "source": [
    "predictions_comparison = iris_hard_coded_random_forest_predictions == y_pred_iris_rf\n",
    "\n",
    "same_count = np.count_nonzero(predictions_comparison)\n",
    "different_count = np.size(predictions_comparison) - same_count\n",
    "\n",
    "print(f'Iris Same Predictions Percentage: {round((same_count/predictions_comparison.size) * 100, 2)}%')\n",
    "print(f'Iris Different Predictions Percentage: {round((different_count/predictions_comparison.size) * 100, 2)}%')"
   ]
  },
  {
   "cell_type": "code",
   "execution_count": 339,
   "id": "a342433d-78b4-4498-b164-43f344559c88",
   "metadata": {},
   "outputs": [
    {
     "name": "stdout",
     "output_type": "stream",
     "text": [
      "Iris Scikit-Learn Tree Accuracy: 100.0%\n",
      "Iris Hard-Coded Tree Accuracy: 100.0%\n"
     ]
    }
   ],
   "source": [
    "iris_random_forest_accuracy = accuracy_score(y_test_iris, y_pred_iris_rf)\n",
    "iris_hard_coded_random_forest_accuracy = accuracy_score(y_test_iris, iris_hard_coded_random_forest_predictions)\n",
    "\n",
    "print(f'Iris Scikit-Learn Tree Accuracy: {round((iris_random_forest_accuracy) * 100, 2)}%')\n",
    "print(f'Iris Hard-Coded Tree Accuracy: {round((iris_hard_coded_random_forest_accuracy) * 100, 2)}%')"
   ]
  },
  {
   "cell_type": "markdown",
   "id": "a323fc5d-8946-4f99-af4a-4129f327455e",
   "metadata": {},
   "source": [
    "So, both models produce perfect predictions. This is not too surprising since even the single decision trees misclassified only one datapoit. "
   ]
  },
  {
   "cell_type": "code",
   "execution_count": 342,
   "id": "52e377f4-71aa-4bef-aad6-bf85fb1bef04",
   "metadata": {},
   "outputs": [
    {
     "name": "stdout",
     "output_type": "stream",
     "text": [
      "Cancer Same Predictions Percentage: 100.0%\n",
      "Cancer Different Predictions Percentage: 0.0%\n"
     ]
    }
   ],
   "source": [
    "predictions_comparison = cancer_hard_coded_random_forest_predictions == y_pred_cancer_rf\n",
    "\n",
    "same_count = np.count_nonzero(predictions_comparison)\n",
    "different_count = np.size(predictions_comparison) - same_count\n",
    "\n",
    "print(f'Cancer Same Predictions Percentage: {round((same_count/predictions_comparison.size) * 100, 2)}%')\n",
    "print(f'Cancer Different Predictions Percentage: {round((different_count/predictions_comparison.size) * 100, 2)}%')"
   ]
  },
  {
   "cell_type": "code",
   "execution_count": 341,
   "id": "ff67c156-98ae-4f6a-9dc4-bef7884a8b5f",
   "metadata": {},
   "outputs": [
    {
     "name": "stdout",
     "output_type": "stream",
     "text": [
      "Cancer Scikit-Learn Forest Accuracy: 95.61%\n",
      "Cancer Hard-Coded Forest Accuracy: 95.61%\n"
     ]
    }
   ],
   "source": [
    "cancer_random_forest_accuracy = accuracy_score(y_test_cancer, y_pred_cancer_rf)\n",
    "cancer_hard_coded_random_forest_accuracy = accuracy_score(y_test_cancer, cancer_hard_coded_random_forest_predictions)\n",
    "\n",
    "print(f'Cancer Scikit-Learn Forest Accuracy: {round((cancer_random_forest_accuracy) * 100, 2)}%')\n",
    "print(f'Cancer Hard-Coded Forest Accuracy: {round((cancer_hard_coded_random_forest_accuracy) * 100, 2)}%')"
   ]
  },
  {
   "cell_type": "code",
   "execution_count": 344,
   "id": "3421cda3-ae9f-4406-b1e0-5e037cc1490f",
   "metadata": {},
   "outputs": [
    {
     "name": "stdout",
     "output_type": "stream",
     "text": [
      "[[39  2]\n",
      " [ 3 70]]\n"
     ]
    }
   ],
   "source": [
    "print(confusion_matrix(y_test_cancer, cancer_hard_coded_random_forest_predictions))"
   ]
  },
  {
   "cell_type": "markdown",
   "id": "e388d79b-a9ed-468c-82bd-51a14e3473e4",
   "metadata": {},
   "source": [
    "The above results indicate that the two models produce the same predictions. Thus, we can conclude that our hard-coded functions are equivalent to scikit-learn's `RandomForestClassifier()`, except for the fact that scikit-learn's `RandomForestClassifier()` is *way faster* (and has more hyperparameters). "
   ]
  },
  {
   "cell_type": "markdown",
   "id": "ecd7d0bc-0f82-454e-9809-2828ba1d79ce",
   "metadata": {},
   "source": [
    "# Improving Performance"
   ]
  },
  {
   "cell_type": "markdown",
   "id": "a59e5dd6-e177-4519-9f58-ada5db99e268",
   "metadata": {},
   "source": [
    "A lot could be done to improve the training time of our random forest classifier. Clearly, the main issue of our random forest is that it takes a fairly long time to train each tree, and so, to improve the training speed of `train_random_forest`, we need to improve the training speed of `random_decision_tree_fit`. Unfortunately, we couldn't find much about this in the machine learning textbooks that we cited below. However, we managed to find some interesting ideas at the following link: https://stats.stackexchange.com/questions/105487/the-efficiency-of-decision-tree. Some of the main things that we could do are:\n",
    "- **Vectorizing** everything that still needs to be vectorized; specifically, many our functions contain several loops that could be rewritten as vector or matrix operations\n",
    "- Computing some operations in **parallel**: for example, we could fit more than one tree at the same time, or we could try to find the best split for more than one subset of the data at the same time\n",
    "- Searching for a **good split** rather than the best split: this would allow us to obtain best best split considering only a randomly selected subset of each column; this would lead to a split that is not guaranteed to be the best split, but it would allow the algorithm to ignore several values in each columns; while this might lead to imprecise decision trees, the errors that this might cause would be greatly mitigated in large random forests\n",
    "\n",
    "Rather than focusing on these, we would like to modify the algorithm that `random_decision_tree_fit` uses to find the best split. Specifically, for each column, `random_decision_tree_fit` finds the best split by iterating through each value and calculating the weighted Gini that splitting the data at the considered datapoint would produce. Rather than doing this, we will split the data into two bins (one of which is initially empty), and calcualte the weigted Gini that this gives. Then, we will move one datapoint at a time to the other bin, and at each step we calculate weighted Gini using the content of the bins rather than using the datapoints themselves. This has the advantage that rather than splitting the column every time we need to check a new potential best split, we split the column one time into two bins and then we move one datapoint at a time. We will try to apply this trick to columns containing continuous variables since those are the ones that are slowing down the training time the most. "
   ]
  },
  {
   "cell_type": "code",
   "execution_count": 346,
   "id": "0f887a2e",
   "metadata": {
    "tags": []
   },
   "outputs": [],
   "source": [
    "def find_min_in_left(left):\n",
    "    # min_so_far = [min value, y value]\n",
    "    min_so_far = [np.inf, 0]\n",
    "    for i in left.keys():\n",
    "        if left[i].shape[0] != 0: \n",
    "            if left[i].iloc[0] < min_so_far[0]:\n",
    "                min_so_far = [left[i].iloc[0],i]\n",
    "    return min_so_far"
   ]
  },
  {
   "cell_type": "code",
   "execution_count": 348,
   "id": "2bfbd768",
   "metadata": {
    "tags": []
   },
   "outputs": [],
   "source": [
    "def gini_of_node(node):\n",
    "    probSquared = np.array([])\n",
    "    tot_length = 0\n",
    "    for i in node.keys():\n",
    "        tot_length += node[i].shape[0]\n",
    "    if tot_length == 0:\n",
    "        return 1\n",
    "    else:\n",
    "        for i in node.keys():\n",
    "            prob = np.divide(node[i].shape[0],tot_length)\n",
    "            probSquared = np.append(probSquared,np.square(prob))\n",
    "        return 1-np.sum(probSquared)"
   ]
  },
  {
   "cell_type": "code",
   "execution_count": 347,
   "id": "8bd84dfb",
   "metadata": {},
   "outputs": [],
   "source": [
    "def weighted_Gini(left, right):\n",
    "    total_length = 0\n",
    "    left_length = 0\n",
    "    right_length = 0\n",
    "    for i in left.keys():\n",
    "        total_length += left[i].shape[0]\n",
    "        left_length += left[i].shape[0]\n",
    "    for i in right.keys():\n",
    "        total_length += right[i].shape[0]\n",
    "        right_length += right[i].shape[0]\n",
    "    if left_length == 0:\n",
    "        weight_left = 0\n",
    "    else:\n",
    "        weight_left = np.divide(left_length,total_length)\n",
    "    if right_length == 0:\n",
    "        weight_right = 0\n",
    "    else:\n",
    "        weight_right = np.divide(right_length,total_length)\n",
    "    return weight_left*gini_of_node(left) + weight_right*gini_of_node(right)  "
   ]
  },
  {
   "cell_type": "code",
   "execution_count": 350,
   "id": "df5441b3-08dd-44c4-9bae-976f570c4bb7",
   "metadata": {},
   "outputs": [],
   "source": [
    "def get_split_for_continuous_variable(column,y):\n",
    "    left = {}\n",
    "    right = {} \n",
    "    for i in np.unique(y):\n",
    "        left[i] = column[y==i].sort_values()\n",
    "        right[i] = np.array([])\n",
    "    weigted_Gini_of_best_cut = 2\n",
    "    best_cut_value = 0\n",
    "    len_left = 0 \n",
    "    for i in left.keys():\n",
    "        len_left += left[i].shape[0]\n",
    "    len_right = 0\n",
    "    min_value_in_left = np.inf\n",
    "    while len_left != 0:\n",
    "        trial_cut, index_of_min = find_min_in_left(left)\n",
    "        current_Gini = weighted_Gini(left,right)\n",
    "        if current_Gini < weigted_Gini_of_best_cut:\n",
    "            best_cut_value = trial_cut\n",
    "            weigted_Gini_of_best_cut = current_Gini\n",
    "        left[index_of_min] = left[index_of_min].iloc[1:]\n",
    "        right[index_of_min] = np.append(right[index_of_min], trial_cut)\n",
    "        len_left -= 1\n",
    "        len_right += 1\n",
    "    return (best_cut_value,weigted_Gini_of_best_cut,column.name)      "
   ]
  },
  {
   "cell_type": "markdown",
   "id": "b942ac68-f754-4265-babd-0c466605f3cd",
   "metadata": {},
   "source": [
    "Here's how `get_split_for_continuous_variable` obtains the best split for a continuous variable:\n",
    "- Define two empty bins named left and right\n",
    "- For each value of the target y, create sorted subsets in each bin; the ones on the left contain all the data, the ones on the right are initially empty\n",
    "- Set the initial value of a few variables and obtain the size of the left bin\n",
    "- Start a while loop that stops when the size of the left bin is zero, meaning that all data has been passed to the right bin\n",
    "- At each iteration, try the minimum value in the left bin as the split value and obtain the weighted Gini, then move this point to the right bin; finding the minimum value is quick because the data is already sorted, and so the function just needs to check the first datapoint for each subset in the left bin"
   ]
  },
  {
   "cell_type": "code",
   "execution_count": 351,
   "id": "7cc896e2",
   "metadata": {},
   "outputs": [],
   "source": [
    "def bestSubsetSplit_new(x,y):\n",
    "    results = np.array((np.nan,2,np.nan))\n",
    "    if np.unique(y).shape[0]<10:\n",
    "        for column in x.columns:\n",
    "            a=np.array(bestColumnSplit(x[str(column)],y))\n",
    "            results = np.vstack((results,a))\n",
    "    else:\n",
    "        for column in x.columns:\n",
    "            a=np.array(get_split_for_continuous_variable(x[str(column)],y))\n",
    "            results = np.vstack((results,a))\n",
    "    row_best_cut = results[:,1].argmin()\n",
    "    # return best cut value and column name\n",
    "    return (float(results[row_best_cut,0]),results[row_best_cut,2])"
   ]
  },
  {
   "cell_type": "code",
   "execution_count": 352,
   "id": "f4652076",
   "metadata": {},
   "outputs": [],
   "source": [
    "def random_decision_tree_fit_new(x,y,max_depth,min_samples_split,min_samples_leaf,max_features):\n",
    "    df = x.copy()\n",
    "    # subset = (mask, prediction, depth, query)\n",
    "    potential_nodes = [(pd.Series([np.nan,np.nan]),y.value_counts().idxmax(), 0, 'True')]\n",
    "    leaves = []\n",
    "    columns = df.columns\n",
    "    while len(potential_nodes) != 0:\n",
    "        for subset in potential_nodes:\n",
    "            if subset[2]==0:\n",
    "                dropped_columns = np.random.choice(columns, df.shape[1]-max_features, replace='False')\n",
    "                while True:\n",
    "                    cut_value, cut_variable = bestSubsetSplit_new(df.drop(dropped_columns,axis=1),y)\n",
    "                    mask_1 = df[cut_variable] < cut_value\n",
    "                    mask_2 = df[cut_variable] >= cut_value\n",
    "                    if (df[mask_1].shape[0]<min_samples_leaf) | (df[mask_2].shape[0]<min_samples_leaf):\n",
    "                        dropped_columns = np.append(dropped_columns, cut_variable)\n",
    "                        if len(dropped_columns) == len(df.columns):\n",
    "                                return \"No branches found. Please, try to increase the value of min_samples_leaf.\"\n",
    "                    else:\n",
    "                        break\n",
    "                prediction_1 = y[mask_1].value_counts().idxmax()\n",
    "                prediction_2 = y[mask_2].value_counts().idxmax()\n",
    "                depth = 1\n",
    "                query_1 = '(' + cut_variable + '<' + f'{cut_value}' + ')'\n",
    "                query_2 = '(' + cut_variable + '>=' + f'{cut_value}' + ')'\n",
    "                node_1 = (mask_1, prediction_1, depth, query_1)\n",
    "                node_2 = (mask_2, prediction_2, depth, query_2)\n",
    "            else:\n",
    "                dropped_columns = np.random.choice(columns, df.shape[1]-max_features, replace='False')\n",
    "                while True:\n",
    "                    cut_value, cut_variable = bestSubsetSplit(df[subset[0]].drop(dropped_columns,axis=1),y[subset[0]]) \n",
    "                    mask_1 = (subset[0]) & (df[cut_variable] < cut_value)\n",
    "                    mask_2 = (subset[0]) & (df[cut_variable] >= cut_value)\n",
    "                    query_1 = subset[3] + '&' + '(' + cut_variable + '<' + f'{cut_value}' + ')'\n",
    "                    query_2 = subset[3] + '&' + '(' + cut_variable + '>=' + f'{cut_value}' + ')'\n",
    "                    if (df[mask_1].shape[0]<min_samples_leaf) | (df[mask_2].shape[0]<min_samples_leaf):\n",
    "                        dropped_columns = np.append(dropped_columns, cut_variable)\n",
    "                        if len(dropped_columns) == len(df.columns):\n",
    "                            leaves.append(subset)\n",
    "                            #potential_nodes.remove(subset)\n",
    "                            break\n",
    "                    else:\n",
    "                        break\n",
    "                prediction_1 = y[mask_1].value_counts().idxmax()\n",
    "                prediction_2 = y[mask_2].value_counts().idxmax()\n",
    "                depth = subset[2]+1\n",
    "                node_1 = (mask_1, prediction_1, depth, query_1)\n",
    "                node_2 = (mask_2, prediction_2, depth, query_2)\n",
    "            # check if the new nodes are leaves \n",
    "            if subset_not_in_leaves(subset,leaves):\n",
    "                if node_1[2] == max_depth or df[mask_1].shape[0] <= min_samples_split or y[mask_1].unique().shape[0]==1:\n",
    "                    leaves.append(node_1)\n",
    "                else:\n",
    "                    potential_nodes.append(node_1)\n",
    "                if node_2[2] == max_depth or df[mask_2].shape[0] <= min_samples_split or y[mask_2].unique().shape[0]==1:\n",
    "                    leaves.append(node_2)\n",
    "                else:\n",
    "                    potential_nodes.append(node_2)\n",
    "            potential_nodes = remove_subset_from_nodes(subset,potential_nodes)\n",
    "    return restructure_leaves(leaves) "
   ]
  },
  {
   "cell_type": "code",
   "execution_count": 353,
   "id": "d007f50e-9e92-45f2-a0ee-38e38500daa7",
   "metadata": {},
   "outputs": [],
   "source": [
    "def train_random_forest_new(x,y,max_depth,min_samples_split,min_samples_leaf,n_estimators,max_features,random_seed):\n",
    "    np.random.seed(seed=random_seed)\n",
    "    results = []\n",
    "    for estimators in range(n_estimators):\n",
    "        bootstrap_x = x.sample(n=len(x), replace=True)\n",
    "        bootstrap_y = y[bootstrap_x.index]\n",
    "        # oob_x = x.drop(bootstrap_x.index)\n",
    "        tree = random_decision_tree_fit_new(bootstrap_x,bootstrap_y,max_depth,min_samples_split,min_samples_leaf,max_features)\n",
    "        results.append(tree)\n",
    "    return results   "
   ]
  },
  {
   "cell_type": "code",
   "execution_count": null,
   "id": "ecf476ae-f5fb-4e95-9f9e-283868d1d3b0",
   "metadata": {},
   "outputs": [
    {
     "name": "stdout",
     "output_type": "stream",
     "text": [
      "Iris training time: 18.75035262107849 seconds\n",
      "Iris prediction time: 2.854611873626709 seconds\n"
     ]
    }
   ],
   "source": [
    "t_1 = time.time()\n",
    "iris_hard_coded_random_forest_new = train_random_forest_new(X_train_iris, y_train_iris, np.inf, 2, 1, 100, 3, 42)\n",
    "t_2 = time.time()\n",
    "iris_hard_coded_random_forest_new_predictions = random_forest_predict(iris_hard_coded_random_forest_new, X_test_iris)\n",
    "t_3 = time.time()\n",
    "\n",
    "iris_hard_coded_random_forest_new_training_time = t_2 - t_1\n",
    "iris_hard_coded_random_forest_new_prediction_time = t_3 - t_2 \n",
    "\n",
    "print(f'Iris training time: {iris_hard_coded_random_forest_new_training_time} seconds')\n",
    "print(f'Iris prediction time: {iris_hard_coded_random_forest_new_prediction_time} seconds')"
   ]
  },
  {
   "cell_type": "code",
   "execution_count": 355,
   "id": "9697bef7-0139-4e5a-9b42-c80323e73dca",
   "metadata": {},
   "outputs": [
    {
     "name": "stdout",
     "output_type": "stream",
     "text": [
      "Cancer training time: 1277.8775141239166 seconds\n",
      "Cancer prediction time: 8.553619861602783 seconds\n"
     ]
    }
   ],
   "source": [
    "t_1 = time.time()\n",
    "cancer_hard_coded_random_forest_new = train_random_forest_new(X_train_cancer, y_train_cancer, np.inf, 2, 1, 100, 3, 42)\n",
    "t_2 = time.time()\n",
    "cancer_hard_coded_random_forest_new_predictions = random_forest_predict(cancer_hard_coded_random_forest_new, X_test_cancer)\n",
    "t_3 = time.time()\n",
    "\n",
    "cancer_hard_coded_random_forest_new_training_time = t_2 - t_1\n",
    "cancer_hard_coded_random_forest_new_prediction_time = t_3 - t_2 \n",
    "\n",
    "print(f'Cancer training time: {cancer_hard_coded_random_forest_new_training_time} seconds')\n",
    "print(f'Cancer prediction time: {cancer_hard_coded_random_forest_new_prediction_time} seconds')"
   ]
  },
  {
   "cell_type": "markdown",
   "id": "4b015881-972b-4ef7-b134-65329f3caa49",
   "metadata": {},
   "source": [
    "Unfortunately, we see that the training time has not significantly improved. The other ideas we mentioned above should speed us the training time much more. "
   ]
  },
  {
   "cell_type": "code",
   "execution_count": 373,
   "id": "8b390813-8a29-4a13-a8e7-176933e23fe8",
   "metadata": {},
   "outputs": [
    {
     "name": "stdout",
     "output_type": "stream",
     "text": [
      "Same Predictions = 113\n",
      "Different Predictions = 1\n",
      "Cancer Hard-Coded Forest New Accuracy: 96.49%\n"
     ]
    }
   ],
   "source": [
    "cancer_comparison = cancer_hard_coded_random_forest_new_predictions==cancer_hard_coded_random_forest_predictions\n",
    "same = np.count_nonzero(cancer_comparison)\n",
    "different = cancer_comparison.size - same\n",
    "print('Same Predictions =',same)\n",
    "print('Different Predictions =',different)\n",
    "\n",
    "cancer_hard_coded_random_forest_new_accuracy = accuracy_score(y_test_cancer, cancer_hard_coded_random_forest_new_predictions)\n",
    "print(f'Cancer Hard-Coded Forest New Accuracy: {round((cancer_hard_coded_random_forest_new_accuracy) * 100, 2)}%')"
   ]
  },
  {
   "cell_type": "markdown",
   "id": "6c3c9a1b-9626-4e82-8209-ea0d699cddee",
   "metadata": {},
   "source": [
    "So, the predictions are almost identical and the accuracy has slightly improved. These changes are not significant and these results are consistent with what we previously obtained."
   ]
  },
  {
   "cell_type": "markdown",
   "id": "9f3ae984-60a9-49e6-830e-55e691fa04f3",
   "metadata": {},
   "source": [
    "We conclude by visualizing the training times for all our models. Since these are extremely different, we will plot them on a logarithmic scale."
   ]
  },
  {
   "cell_type": "code",
   "execution_count": 381,
   "id": "c73854cd-e02b-47a7-a56c-29cfb1698a6b",
   "metadata": {},
   "outputs": [],
   "source": [
    "training_times = pd.DataFrame(columns = ['Name','Training Time'])\n",
    "\n",
    "training_times = training_times.append({'Name': 'Sklearn Tree Iris',\n",
    "                                       'Training Time':iris_tree_training_time}, ignore_index=True)\n",
    "training_times = training_times.append({'Name': 'Sklearn Tree Cancer',\n",
    "                                       'Training Time':cancer_tree_training_time}, ignore_index=True)\n",
    "training_times = training_times.append({'Name': 'HD Tree Iris',\n",
    "                                       'Training Time':iris_hard_coded_tree_training_time}, ignore_index=True)\n",
    "training_times = training_times.append({'Name': 'HD Tree Cancer',\n",
    "                                       'Training Time':cancer_hard_coded_tree_training_time}, ignore_index=True)\n",
    "training_times = training_times.append({'Name': 'SKlearn RF Iris',\n",
    "                                       'Training Time':iris_random_forest_training_time}, ignore_index=True)\n",
    "training_times = training_times.append({'Name': 'SKlearn RF Cancer',\n",
    "                                       'Training Time':cancer_random_forest_training_time}, ignore_index=True)\n",
    "training_times = training_times.append({'Name': 'HD 1 Tree RF Iris',\n",
    "                                       'Training Time':iris_hard_coded_single_tree_forest_training_time}, ignore_index=True)\n",
    "training_times = training_times.append({'Name': 'HD 1 Tree RF Cancer',\n",
    "                                       'Training Time':cancer_hard_coded_single_tree_forest_training_time}, ignore_index=True)\n",
    "training_times = training_times.append({'Name': 'HD RF Iris',\n",
    "                                       'Training Time':iris_hard_coded_random_forest_training_time}, ignore_index=True)\n",
    "training_times = training_times.append({'Name': 'HD RF Cancer',\n",
    "                                       'Training Time':cancer_hard_coded_random_forest_training_time}, ignore_index=True)\n",
    "training_times = training_times.append({'Name': 'Improved HD RF Iris',\n",
    "                                       'Training Time':iris_hard_coded_random_forest_new_training_time}, ignore_index=True)\n",
    "training_times = training_times.append({'Name': 'Improved HD RF Cancer',\n",
    "                                       'Training Time':cancer_hard_coded_random_forest_new_training_time}, ignore_index=True)"
   ]
  },
  {
   "cell_type": "code",
   "execution_count": 400,
   "id": "c0b84374-798b-4c79-b7e0-fb33a2e42658",
   "metadata": {},
   "outputs": [
    {
     "data": {
      "image/png": "[encoded data removed]",
      "text/plain": [
       "<Figure size 720x432 with 1 Axes>"
      ]
     },
     "metadata": {
      "needs_background": "light"
     },
     "output_type": "display_data"
    }
   ],
   "source": [
    "import matplotlib.pyplot as plt\n",
    "plt.figure(figsize=(10,6))\n",
    "\n",
    "plt.bar(training_times['Name'], training_times['Training Time'])\n",
    "plt.yscale('log')\n",
    "\n",
    "# Set yticks at your specified values\n",
    "yticks = [10**(-2),10**(-1),10**(0),10**(1),10**(2),10**(3)]\n",
    "plt.yticks(yticks)\n",
    "\n",
    "plt.xticks(rotation=45, ha='right')\n",
    "plt.xlabel('Categories')\n",
    "plt.ylabel('Values (log scale)')\n",
    "plt.title('Bar Chart with Log Scale')\n",
    "\n",
    "# Add a grid only at major ticks\n",
    "plt.grid(axis='y', which='major', color='lightgray', linestyle='--', linewidth=0.5)\n",
    "\n",
    "# Remove minor ticks\n",
    "plt.tick_params(axis='x', which='both', bottom=False)\n",
    "plt.tick_params(axis='y', which='both', left=False)\n",
    "\n",
    "plt.show()"
   ]
  },
  {
   "cell_type": "markdown",
   "id": "29f95cc3-3740-4a2d-a7a3-db152face017",
   "metadata": {},
   "source": [
    "### Conclusion and Future Work"
   ]
  },
  {
   "cell_type": "markdown",
   "id": "9d8f44df-f490-47a7-b9e3-09ae28d4f136",
   "metadata": {},
   "source": [
    "Our goal was to hard-code a random forest classifier using only NumPy and pandas. We used two toy data sets (the iris data set and the breast cancer data set) to compare our hard-coded classifier to scikit-learn's RandomForestClassifier. The iris data set had shape (150,5), which means that this data set is quite small. The breast cancer data set had shape (569, 31), which is many more columns than the iris data set but still not many rows. Excluding the target, all variables in these data sets were continuous. To make sure that our hard-coded model could handle boolean variables, we converted one of the iris data set columns to a binomial variable. \n",
    "\n",
    "As an intermediate step, we hard-coded a decision tree classifier. The training time of this classifier was 0.42 seconds on the iris data set, and 58 seconds on the cancer data set. Of course, these times might vary on different machines. When we compare these training times to scikit-learn's DecisionTreeClassifier, we see that our model's training time is roughly $10^2$ times higher on the iris data set, and roughly $7*10^3$ times higher on the breast cancer data set. On the iris data set, the prediction of both models were the same, and the accuracy of both models was 96.67%. On the breast cancer data set, 99% of the predictions were the same (1 prediction was different), and the accuracy was 93% for scikit-learn's decision tree and 92% for our hard-coded decision tree. This difference is negligible once random forests are trained.\n",
    "\n",
    "Next, we modified our hard-coded decision tree classifier to build one of the trees that are part of a random forest. The fundamental difference between this tree and a standard decision tree is that at each step, only a subset of the variables is used to obtain the next best split. Since not all columns are considered at each step, these trees are trained faster than a standard decision tree. Specifically, we found that their training time is roughly 3 times lower on the iris data set, and 6 times lower on the breast cancer data set. \n",
    "\n",
    "Using the our modified decision tree, we hard-coded a random forest classifier. The training times for a random forest of 100 trees were roughly 21 seconds on the iris data set, and 23.5 minutes on the breast cancer data set. We believe that the reason for the very long training time on the breast cancer data set is due to the fact that the dimension of the data set is larger (in terms of both rows and columns) than the iris data set and that all variables are continuous, so that the model has to check roughly $450*2/3 = 300$ (the number of rows in the training set times the approximate probability that each data point is part of the bootstrapped data set that the tree is trained on) unique values to obtain the best split for each column. \n",
    "\n",
    "Comparing these results with the training time of scikit-learn's RandomForestClassifier, we found that the training time of our model is $1.4*10^2$ times larger for the iris data set, and $7.4*10^3$ times larger for the breast cancer data set. These results are consistent with the training times for decision trees. In addition, the predictions of both models were identical on both data sets. The accuracy on the iris data set was 100%, and the accuracy on the breast cancer data set was 95.61%. These results indicate that although the training time of our hard-coded model is much higher, the predictions of our model are completely equivalent to the ones of scikit-learn's RandomForestClassifier.\n",
    "\n",
    "In an attempt to reduce the training time of the hard-coded models, we wrote a different function to train the decision trees of the random forest. The main difference between this new function an our old one is the way the best split for each column is determined. In the old function, the unique values in a column are determined, and for each unique value, the weighted Gini score is calculated so that the best split can be found. In the new function, the values unique values in the column are ordered and distributed into two bins, with one of the bins initially empty. Then, at each iteration the weighted Gini score is calculated, and the  lowest value in the initially full bin is moved to the initially empty bin. The advantage of this is that the data is split only once rather than at each iteration. With these new functions, we trained a random forest of 100 trees in 19 seconds on the Iris data set, and 21.3 minutes on the breast cancer data set. Thus, although there is a small improvement, the training times are very similar to the ones of our old function. The predictions are also essentially the same, with an accuracy of 96.5% on the breast cancer data set. \n",
    "\n",
    "In conclusion, we were successful in building a hard-coded random forest classifier. The predictions of our models are essentially identical to the prediction of scikit-learn's models, but the training times of our models are orders of magnitude larger. We managed to slightly improve the training time of our models, but this improvement is negligibly small. In order to significantly improve the training time of our models, we should try to vectorize the processes in our functions as much as possible. In addition, we might try to find a good split rather than the best split. This would likely not affect the accuracy of our models too much in large enough forests. Finally, we should try to train trees in parallel rather than one at a time."
   ]
  },
  {
   "cell_type": "markdown",
   "id": "325207a7",
   "metadata": {},
   "source": [
    "# References "
   ]
  },
  {
   "cell_type": "markdown",
   "id": "e2d68c8b",
   "metadata": {},
   "source": [
    "- Gareth James, Daniela Witten, Trevor Hastie, and Robert Tibshirani, *An Introduction to Statistical Learning: with Applications in R* (Springer, 2013).\n",
    "- Trevor Hastie, Robert Tibshirani, and Jerome Friedman, *The Elements of Statistical Learning*, Springer Series in Statistics\n",
    "(Springer New York Inc., New York, NY, USA, 2001).\n",
    "- https://scikit-learn.org/stable/modules/generated/sklearn.tree.DecisionTreeClassifier.html#sklearn.tree.DecisionTreeClassifier\n",
    "- https://scikit-learn.org/stable/modules/generated/sklearn.ensemble.RandomForestClassifier.html\n",
    "- https://stats.stackexchange.com/questions/105487/the-efficiency-of-decision-tree"
   ]
  }
 ],
 "metadata": {
  "kernelspec": {
   "display_name": "Python 3 (ipykernel)",
   "language": "python",
   "name": "python3"
  },
  "language_info": {
   "codemirror_mode": {
    "name": "ipython",
    "version": 3
   },
   "file_extension": ".py",
   "mimetype": "text/x-python",
   "name": "python",
   "nbconvert_exporter": "python",
   "pygments_lexer": "ipython3",
   "version": "3.9.7"
  }
 },
 "nbformat": 4,
 "nbformat_minor": 5
}
